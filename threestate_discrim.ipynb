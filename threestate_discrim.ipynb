{
 "cells": [
  {
   "cell_type": "code",
   "execution_count": 1,
   "metadata": {},
   "outputs": [],
   "source": [
    "import numpy as np\n",
    "import matplotlib.pyplot as plt\n",
    "import pandas as pd\n",
    "import sys\n",
    "import nonlinear_QM_FPJPA as Fs\n",
    "import wx_programs as wx\n",
    "import bnc\n",
    "from generator import *\n",
    "from hardware_config import *\n",
    "from values import *\n",
    "from qubit_class import *"
   ]
  },
  {
   "cell_type": "code",
   "execution_count": 2,
   "metadata": {},
   "outputs": [
    {
     "data": {
      "text/plain": [
       "int"
      ]
     },
     "execution_count": 2,
     "metadata": {},
     "output_type": "execute_result"
    }
   ],
   "source": [
    "wx_addr = wx.get_wx_address()\n",
    "main_directory = r\"C:\\Users\\quantum1\\Documents\"\n",
    "save_dir = rf\"{main_directory}\\Python Scripts\\Important Blue Fridge Python Files\\New\\nonlinear_QM\\data\"\n",
    "ROIF1 = q1_dict[\"ro_freq\"] - readout_dict[\"RO_LO\"]\n",
    "ROIF2 = q2_dict[\"ro_freq\"] - readout_dict[\"RO_LO\"]\n",
    "\n",
    "q1 = Qubit(q1_dict)\n",
    "readout = Readout(readout_dict)\n",
    "type(readout.ro_dur)"
   ]
  },
  {
   "cell_type": "code",
   "execution_count": 3,
   "metadata": {},
   "outputs": [
    {
     "name": "stdout",
     "output_type": "stream",
     "text": [
      "file_length: 16000 (type: <class 'int'>)\n",
      "readout_dur: 5000 (type: <class 'int'>)\n",
      "pi_ge: 51 (type: <class 'int'>)\n",
      "coef: 1 (type: <class 'int'>)\n",
      "ge_amp: 1.2 (type: <class 'float'>)\n",
      "ssm_ge: -0.111 (type: <class 'float'>)\n",
      "writing to C:\\Users\\quantum1\\Documents\\Python Scripts\\Important Blue Fridge Python Files\\New\\nonlinear_QM\\data\\\n",
      "writing ch1\n",
      "writing ch2\n",
      "writing ch3\n",
      "writing ch4\n",
      "loading C:\\Users\\quantum1\\Documents\\Python Scripts\\Important Blue Fridge Python Files\\New\\nonlinear_QM\\data\\\n",
      "num_steps 3\n",
      "loading ch1\n",
      "loading ch2\n",
      "loading ch3\n",
      "loading ch4\n",
      "0, No error\n",
      "0, No error\n",
      "0, No error\n"
     ]
    }
   ],
   "source": [
    "import pinopi as pnp\n",
    "pnp.pipi_pi_nopi(1, 0, q1, readout, general_vals_dict, save_dir)"
   ]
  }
 ],
 "metadata": {
  "kernelspec": {
   "display_name": "Python 3",
   "language": "python",
   "name": "python3"
  },
  "language_info": {
   "codemirror_mode": {
    "name": "ipython",
    "version": 3
   },
   "file_extension": ".py",
   "mimetype": "text/x-python",
   "name": "python",
   "nbconvert_exporter": "python",
   "pygments_lexer": "ipython3",
   "version": "3.12.3"
  }
 },
 "nbformat": 4,
 "nbformat_minor": 2
}
