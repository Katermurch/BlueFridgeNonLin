{
 "cells": [
  {
   "cell_type": "code",
   "execution_count": 8,
   "metadata": {},
   "outputs": [],
   "source": [
    "import numpy as np\n",
    "import matplotlib.pyplot as plt\n",
    "import pandas as pd\n",
    "import sys\n",
    "import nonlinear_QM_FPJPA as Fs\n",
    "import wx_programs as ex \n",
    "import bnc \n",
    "from generator import *\n",
    "from hardware_config import *\n",
    "from values import * \n",
    "from qubit_class import *"
   ]
  },
  {
   "cell_type": "code",
   "execution_count": 9,
   "metadata": {},
   "outputs": [
    {
     "name": "stdout",
     "output_type": "stream",
     "text": [
      "Qubit(q1, ro_freq=6.7275, ge_time=51, ef_time=77, ge_ssm=-0.111, ef_ssm=-0.2525)\n",
      "Qubit(q2, ro_freq=6.65555, ge_time=40, ef_time=0, ge_ssm=-0.152, ef_ssm=-0.224)\n"
     ]
    }
   ],
   "source": [
    "pi = np.pi\n",
    "save_dir = fr\"{main_directory}\\Python Scripts\\Important Blue Fridge Python Files\\New\\nonlinear_QM\\data\"\n",
    "# Example instantiation\n",
    "q1 = Qubit(\n",
    "    qubit_id=\"q1\",\n",
    "    ro_freq=6.7275,\n",
    "    ge_time=51,\n",
    "    ef_time=77,\n",
    "    ge_ssm=-0.111,\n",
    "    ef_ssm=-0.2525\n",
    ")\n",
    "\n",
    "q2 = Qubit(\n",
    "    qubit_id=\"q2\",\n",
    "    ro_freq=6.65555,\n",
    "    ge_time=40,\n",
    "    ef_time=0,  # Set 0 if not provided in the dictionary\n",
    "    ge_ssm=-0.152,\n",
    "    ef_ssm=-0.224\n",
    ")\n",
    "\n",
    "print(q1)\n",
    "print(q2)"
   ]
  },
  {
   "cell_type": "code",
   "execution_count": null,
   "metadata": {},
   "outputs": [],
   "source": [
    "if pis_nopi: #run to correct two qubit rabi tomography\n",
    "    num_steps = 3\n",
    "    reps = 15000\n",
    "    if which_qubit == 0:\n",
    "        \n",
    "        Fs.pi_nopi(off = 0,coef=0,pi_ge=pi_ge_time,q = which_qubit,r=which_qubit,ROIF=ROIF2,ssm_ge = ssm_ge); #|g>, keeps population in ground state\n",
    "        # Fs.pi_nopi(off = 1,coef=1,pi_ge=pi_ge_time,q= which_qubit,r=which_qubit,ROIF=ROIF2,ssm_ge = ssm_ge); #|e>, sends population to |e>\n",
    "        #Fs.pi_nopi(off = 2,coef=1,coefpief=1,pi_ge=pi_ge_time,pi_ef=pi_ef_time,q= which_qubit,ROIF=ROIF2,ssm_ge = ssm_ge,ssm_ef=ssm_ef);\n",
    "        \n",
    "    if which_qubit == 1:\n",
    "        Fs.pi_nopi(off = 0,coef=0,pi_ge=pi_ge_time,q = which_qubit,r=which_qubit,ROIF=ROIF1,ssm_ge = ssm_ge); #|g>, keeps population in ground state\n",
    "        Fs.pi_nopi(off = 1,coef=1,pi_ge=pi_ge_time,q= which_qubit,r=which_qubit,ROIF=ROIF1,ssm_ge = ssm_ge); #|e>, sends population to |e>\n",
    "        #Fs.pi_nopi(off = 2,coef=1,coefpief=1,pi_ge=pi_ge_time,pi_ef=pi_ef_time,q= which_qubit,ROIF=ROIF1,ssm_ge = ssm_ge,ssm_ef=ssm_ef);\n"
   ]
  }
 ],
 "metadata": {
  "kernelspec": {
   "display_name": "Python 3",
   "language": "python",
   "name": "python3"
  },
  "language_info": {
   "codemirror_mode": {
    "name": "ipython",
    "version": 3
   },
   "file_extension": ".py",
   "mimetype": "text/x-python",
   "name": "python",
   "nbconvert_exporter": "python",
   "pygments_lexer": "ipython3",
   "version": "3.12.3"
  }
 },
 "nbformat": 4,
 "nbformat_minor": 2
}
