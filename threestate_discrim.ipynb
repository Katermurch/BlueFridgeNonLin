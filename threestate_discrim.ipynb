{
 "cells": [
  {
   "cell_type": "code",
   "execution_count": 1,
   "metadata": {},
   "outputs": [],
   "source": [
    "import numpy as np\n",
    "import matplotlib.pyplot as plt\n",
    "import pandas as pd\n",
    "import sys\n",
    "import nonlinear_QM_FPJPA as Fs\n",
    "import wx_programs as wx\n",
    "import bnc \n",
    "from generator import *\n",
    "from hardware_config import *\n",
    "from values import * \n",
    "from qubit_class import *"
   ]
  },
  {
   "cell_type": "code",
   "execution_count": 7,
   "metadata": {},
   "outputs": [],
   "source": [
    "wx_addr = wx.get_wx_address()\n",
    "save_dir = fr\"{main_directory}\\Python Scripts\\Important Blue Fridge Python Files\\New\\nonlinear_QM\\data\""
   ]
  },
  {
   "cell_type": "code",
   "execution_count": 7,
   "metadata": {},
   "outputs": [
    {
     "name": "stdout",
     "output_type": "stream",
     "text": [
      "writing to C:\\arbsequences\\strong_dispersive_withPython\\test_pulse_ringupdown_bin\\\n",
      "writing ch1\n",
      "writing ch2\n",
      "writing ch3\n",
      "writing ch4\n",
      "loading C:\\arbsequences\\strong_dispersive_withPython\\test_pulse_ringupdown_bin\\\n",
      "num_steps 3\n",
      "loading ch1\n",
      "loading ch2\n",
      "loading ch3\n",
      "loading ch4\n"
     ]
    },
    {
     "ename": "ConnectionRefusedError",
     "evalue": "[WinError 10061] No connection could be made because the target machine actively refused it",
     "output_type": "error",
     "traceback": [
      "\u001b[1;31m---------------------------------------------------------------------------\u001b[0m",
      "\u001b[1;31mConnectionRefusedError\u001b[0m                    Traceback (most recent call last)",
      "Cell \u001b[1;32mIn[7], line 2\u001b[0m\n\u001b[0;32m      1\u001b[0m \u001b[38;5;28;01mimport\u001b[39;00m \u001b[38;5;21;01mpinopi\u001b[39;00m \u001b[38;5;28;01mas\u001b[39;00m \u001b[38;5;21;01mpnp\u001b[39;00m\n\u001b[1;32m----> 2\u001b[0m \u001b[43mpnp\u001b[49m\u001b[38;5;241;43m.\u001b[39;49m\u001b[43mpipi_pi_nopi\u001b[49m\u001b[43m(\u001b[49m\n\u001b[0;32m      3\u001b[0m \u001b[43m    \u001b[49m\u001b[43mcoef\u001b[49m\u001b[38;5;241;43m=\u001b[39;49m\u001b[38;5;241;43m0\u001b[39;49m\u001b[43m,\u001b[49m\u001b[43m \u001b[49m\u001b[43moff\u001b[49m\u001b[38;5;241;43m=\u001b[39;49m\u001b[38;5;241;43m0\u001b[39;49m\u001b[43m,\u001b[49m\u001b[43m \u001b[49m\u001b[43mpi_ge\u001b[49m\u001b[38;5;241;43m=\u001b[39;49m\u001b[43mq1_dict\u001b[49m\u001b[43m[\u001b[49m\u001b[38;5;124;43m'\u001b[39;49m\u001b[38;5;124;43mpi_ge_time_q1\u001b[39;49m\u001b[38;5;124;43m'\u001b[39;49m\u001b[43m]\u001b[49m\u001b[43m,\u001b[49m\u001b[43m \u001b[49m\n\u001b[0;32m      4\u001b[0m \u001b[43m    \u001b[49m\u001b[43mssm_ge\u001b[49m\u001b[38;5;241;43m=\u001b[39;49m\u001b[43mq1_dict\u001b[49m\u001b[43m[\u001b[49m\u001b[38;5;124;43m'\u001b[39;49m\u001b[38;5;124;43mssm_geq1\u001b[39;49m\u001b[38;5;124;43m'\u001b[39;49m\u001b[43m]\u001b[49m\u001b[43m,\u001b[49m\u001b[43mge_amp\u001b[49m\u001b[43m \u001b[49m\u001b[38;5;241;43m=\u001b[39;49m\u001b[43m \u001b[49m\u001b[43mgeneral_vals_dict\u001b[49m\u001b[43m[\u001b[49m\u001b[38;5;124;43m'\u001b[39;49m\u001b[38;5;124;43mge_amp\u001b[39;49m\u001b[38;5;124;43m'\u001b[39;49m\u001b[43m]\u001b[49m\n\u001b[0;32m      5\u001b[0m \u001b[43m)\u001b[49m\n",
      "File \u001b[1;32mc:\\Users\\quantum1\\Documents\\Python Scripts\\Important Blue Fridge Python Files\\New\\nonlinear_QM\\pinopi.py:36\u001b[0m, in \u001b[0;36mpipi_pi_nopi\u001b[1;34m(coef, off, pi_ge, ge_amp, ssm_ge, readout_dur)\u001b[0m\n\u001b[0;32m     34\u001b[0m write_dir \u001b[38;5;241m=\u001b[39m \u001b[38;5;124mr\u001b[39m\u001b[38;5;124m\"\u001b[39m\u001b[38;5;124mC:\u001b[39m\u001b[38;5;124m\\\u001b[39m\u001b[38;5;124marbsequences\u001b[39m\u001b[38;5;124m\\\u001b[39m\u001b[38;5;124mstrong_dispersive_withPython\u001b[39m\u001b[38;5;124m\\\u001b[39m\u001b[38;5;124mtest_pulse_ringupdown_bin\u001b[39m\u001b[38;5;124m\"\u001b[39m\n\u001b[0;32m     35\u001b[0m the_seq\u001b[38;5;241m.\u001b[39mwrite_sequence_to_disk(base_name\u001b[38;5;241m=\u001b[39m\u001b[38;5;124m'\u001b[39m\u001b[38;5;124mfoo\u001b[39m\u001b[38;5;124m'\u001b[39m, file_path\u001b[38;5;241m=\u001b[39mwrite_dir, use_range_01\u001b[38;5;241m=\u001b[39m\u001b[38;5;28;01mFalse\u001b[39;00m,num_offset\u001b[38;5;241m=\u001b[39moff, write_binary\u001b[38;5;241m=\u001b[39m\u001b[38;5;28;01mTrue\u001b[39;00m)\n\u001b[1;32m---> 36\u001b[0m \u001b[43mthe_seq\u001b[49m\u001b[38;5;241;43m.\u001b[39;49m\u001b[43mload_sequence_from_disk\u001b[49m\u001b[43m(\u001b[49m\u001b[43mwx_addr\u001b[49m\u001b[43m,\u001b[49m\u001b[43m \u001b[49m\u001b[43mbase_name\u001b[49m\u001b[38;5;241;43m=\u001b[39;49m\u001b[38;5;124;43m'\u001b[39;49m\u001b[38;5;124;43mfoo\u001b[39;49m\u001b[38;5;124;43m'\u001b[39;49m\u001b[43m,\u001b[49m\u001b[43m \u001b[49m\u001b[43mfile_path\u001b[49m\u001b[38;5;241;43m=\u001b[39;49m\u001b[43mwrite_dir\u001b[49m\u001b[43m,\u001b[49m\u001b[43m \u001b[49m\u001b[43mnum_offset\u001b[49m\u001b[38;5;241;43m=\u001b[39;49m\u001b[38;5;241;43m0\u001b[39;49m\u001b[43m,\u001b[49m\u001b[43m \u001b[49m\u001b[43mch_amp\u001b[49m\u001b[38;5;241;43m=\u001b[39;49m\u001b[43m[\u001b[49m\u001b[38;5;241;43m1\u001b[39;49m\u001b[43m,\u001b[49m\u001b[38;5;241;43m1\u001b[39;49m\u001b[43m,\u001b[49m\u001b[38;5;241;43m1\u001b[39;49m\u001b[43m,\u001b[49m\u001b[38;5;241;43m1\u001b[39;49m\u001b[43m]\u001b[49m\u001b[43m)\u001b[49m\n",
      "File \u001b[1;32mc:\\Users\\quantum1\\Documents\\Python Scripts\\Important Blue Fridge Python Files\\New\\nonlinear_QM\\generator.py:477\u001b[0m, in \u001b[0;36mSequence.load_sequence_from_disk\u001b[1;34m(self, instr_addr, base_name, file_path, num_offset, ch_amp)\u001b[0m\n\u001b[0;32m    474\u001b[0m         waveforms[ch_index][step_index] \u001b[38;5;241m=\u001b[39m np\u001b[38;5;241m.\u001b[39mload(file_name)\n\u001b[0;32m    476\u001b[0m \u001b[38;5;66;03m# Initializing the instrument\u001b[39;00m\n\u001b[1;32m--> 477\u001b[0m inst \u001b[38;5;241m=\u001b[39m \u001b[43mtewx\u001b[49m\u001b[38;5;241;43m.\u001b[39;49m\u001b[43mTEWXAwg\u001b[49m\u001b[43m(\u001b[49m\u001b[43minstr_addr\u001b[49m\u001b[43m,\u001b[49m\u001b[43m \u001b[49m\u001b[43mparanoia_level\u001b[49m\u001b[38;5;241;43m=\u001b[39;49m\u001b[38;5;241;43m1\u001b[39;49m\u001b[43m)\u001b[49m\n\u001b[0;32m    478\u001b[0m inst\u001b[38;5;241m.\u001b[39msend_cmd(\u001b[38;5;124m\"\u001b[39m\u001b[38;5;124m*CLS\u001b[39m\u001b[38;5;124m\"\u001b[39m)  \u001b[38;5;66;03m# Clear errors\u001b[39;00m\n\u001b[0;32m    479\u001b[0m inst\u001b[38;5;241m.\u001b[39msend_cmd(\n\u001b[0;32m    480\u001b[0m     \u001b[38;5;124m\"\u001b[39m\u001b[38;5;124m*RST\u001b[39m\u001b[38;5;124m\"\u001b[39m\n\u001b[0;32m    481\u001b[0m )  \u001b[38;5;66;03m# Reset the device #need to add several commands to set up device to use markers and other configurations\u001b[39;00m\n",
      "File \u001b[1;32mc:\\Users\\quantum1\\Documents\\Python Scripts\\Important Blue Fridge Python Files\\New\\nonlinear_QM\\tewx.py:427\u001b[0m, in \u001b[0;36mTEWXAwg.__init__\u001b[1;34m(self, instr_addr, tcp_timeout, paranoia_level)\u001b[0m\n\u001b[0;32m    425\u001b[0m \u001b[38;5;28mself\u001b[39m\u001b[38;5;241m.\u001b[39m_set_instr_address(instr_addr)\n\u001b[0;32m    426\u001b[0m \u001b[38;5;28;01mif\u001b[39;00m \u001b[38;5;28mself\u001b[39m\u001b[38;5;241m.\u001b[39m_instr_addr \u001b[38;5;129;01mis\u001b[39;00m \u001b[38;5;129;01mnot\u001b[39;00m \u001b[38;5;28;01mNone\u001b[39;00m:\n\u001b[1;32m--> 427\u001b[0m     \u001b[38;5;28;43mself\u001b[39;49m\u001b[38;5;241;43m.\u001b[39;49m\u001b[43mopen\u001b[49m\u001b[43m(\u001b[49m\u001b[43m)\u001b[49m\n",
      "File \u001b[1;32mc:\\Users\\quantum1\\Documents\\Python Scripts\\Important Blue Fridge Python Files\\New\\nonlinear_QM\\tewx.py:476\u001b[0m, in \u001b[0;36mTEWXAwg.open\u001b[1;34m(self, instr_addr, tcp_timeout)\u001b[0m\n\u001b[0;32m    474\u001b[0m     \u001b[38;5;28mself\u001b[39m\u001b[38;5;241m.\u001b[39m_tcp_sock\u001b[38;5;241m.\u001b[39msetsockopt(socket\u001b[38;5;241m.\u001b[39mIPPROTO_TCP, socket\u001b[38;5;241m.\u001b[39mTCP_NODELAY, \u001b[38;5;241m1\u001b[39m)\n\u001b[0;32m    475\u001b[0m     \u001b[38;5;28mself\u001b[39m\u001b[38;5;241m.\u001b[39m_tcp_sock\u001b[38;5;241m.\u001b[39msettimeout(\u001b[38;5;28mself\u001b[39m\u001b[38;5;241m.\u001b[39m_tcp_timeout)\n\u001b[1;32m--> 476\u001b[0m     \u001b[38;5;28;43mself\u001b[39;49m\u001b[38;5;241;43m.\u001b[39;49m\u001b[43m_tcp_sock\u001b[49m\u001b[38;5;241;43m.\u001b[39;49m\u001b[43mconnect\u001b[49m\u001b[43m(\u001b[49m\u001b[43m(\u001b[49m\u001b[38;5;28;43mself\u001b[39;49m\u001b[38;5;241;43m.\u001b[39;49m\u001b[43m_ip_addr\u001b[49m\u001b[43m,\u001b[49m\u001b[43m \u001b[49m\u001b[38;5;28;43mself\u001b[39;49m\u001b[38;5;241;43m.\u001b[39;49m\u001b[43m_tcp_port_nb\u001b[49m\u001b[43m)\u001b[49m\u001b[43m)\u001b[49m\n\u001b[0;32m    477\u001b[0m     \u001b[38;5;28mself\u001b[39m\u001b[38;5;241m.\u001b[39m_intf_type \u001b[38;5;241m=\u001b[39m CommIntfType\u001b[38;5;241m.\u001b[39mLAN\n\u001b[0;32m    478\u001b[0m \u001b[38;5;28;01melif\u001b[39;00m \u001b[38;5;28mself\u001b[39m\u001b[38;5;241m.\u001b[39m_usb_addr \u001b[38;5;129;01mis\u001b[39;00m \u001b[38;5;129;01mnot\u001b[39;00m \u001b[38;5;28;01mNone\u001b[39;00m:\n",
      "\u001b[1;31mConnectionRefusedError\u001b[0m: [WinError 10061] No connection could be made because the target machine actively refused it"
     ]
    }
   ],
   "source": [
    "import pinopi as pnp\n",
    "pnp.pipi_pi_nopi(\n",
    "    coef=0, off=0, pi_ge=q1_dict['pi_ge_time_q1'], \n",
    "    ssm_ge=q1_dict['ssm_geq1'],ge_amp = general_vals_dict['ge_amp']\n",
    ")"
   ]
  },
  {
   "cell_type": "code",
   "execution_count": null,
   "metadata": {},
   "outputs": [],
   "source": []
  }
 ],
 "metadata": {
  "kernelspec": {
   "display_name": "Python 3",
   "language": "python",
   "name": "python3"
  },
  "language_info": {
   "codemirror_mode": {
    "name": "ipython",
    "version": 3
   },
   "file_extension": ".py",
   "mimetype": "text/x-python",
   "name": "python",
   "nbconvert_exporter": "python",
   "pygments_lexer": "ipython3",
   "version": "3.12.3"
  }
 },
 "nbformat": 4,
 "nbformat_minor": 2
}
