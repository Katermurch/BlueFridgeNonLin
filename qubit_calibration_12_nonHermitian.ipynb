{
 "cells": [
  {
   "cell_type": "code",
   "execution_count": 4,
   "metadata": {},
   "outputs": [],
   "source": [
    "import numpy as np\n",
    "import os\n",
    "import matplotlib.pyplot as plt\n",
    "import pandas as pd\n",
    "import sys\n",
    "import hardware_control.wx_programs as wx\n",
    "import hardware_control.bnc as bnc\n",
    "from classes.generator import *\n",
    "from hardware_control.hardware_config import *\n",
    "from experiment_configuration.values import *\n",
    "from classes.qubit_class import *\n",
    "import daq.daq_programs_homo as daq\n",
    "import seaborn as sns\n",
    "import standard_sequences.rabi as rabi\n",
    "import analysis.plotting as plotting\n",
    "import analysis.analysis as analysis\n",
    "import standard_sequences.spectroscopy as spec\n",
    "import standard_sequences.rabi as rabi\n",
    "import standard_sequences.T1_measurements as T1\n",
    "import standard_sequences.parametric_coupling as parametric_coupling\n",
    "import qubit_nonH_cal as qnhc "
   ]
  },
  {
   "cell_type": "code",
   "execution_count": 5,
   "metadata": {},
   "outputs": [],
   "source": [
    "wx_addr = wx.get_wx_address()\n",
    "\n",
    "bnc.set_bnc_output(\n",
    "    readout_dict[\"RO_LO\"],\n",
    "    power_dBm=readout_dict[\"RO_LO_pwr\"],\n",
    "    bnc_addr=bnc_address[\"target_bnc_black\"],\n",
    ")\n"
   ]
  },
  {
   "cell_type": "code",
   "execution_count": 6,
   "metadata": {},
   "outputs": [
    {
     "name": "stdout",
     "output_type": "stream",
     "text": [
      "Qubit(IQ_angle=60, RO_IF=None, qubit_thr=[-10000, -600], ef_ssm=-0.259, ro_dur=5000, RO_LO_pwr=16, ge_ssm=-0.117, mixer_offset_ef=6, ge_time=77, RO_LO_45=6.3804, qubit_id=q1, ROIF=0.10264000000000006, ef_half_time=25, ro_freq=6.72734, RO_LO_34=6.4804, mixer_offset_ge=2.5, ro_amp=0.25, RO_LO=6.6247, ef_time=46, ef_half_amp=1.3, ef_amp=1.5, ge_amp=1)\n",
      "Qubit(IQ_angle=25, RO_IF=None, qubit_thr=[-10000, 1900], ef_ssm=-0.2962, ro_dur=5000, RO_LO_pwr=16, ge_ssm=-0.155, mixer_offset_ef=None, ge_time=62, RO_LO_45=6.3804, qubit_id=q2, ROIF=0.030700000000000394, ef_half_time=None, ro_freq=6.6554, RO_LO_34=6.4804, mixer_offset_ge=2.5, ro_amp=0.6, RO_LO=6.6247, ef_time=None, ef_half_amp=None, ef_amp=1, ge_amp=1)\n"
     ]
    }
   ],
   "source": [
    "q1 = Qubit(q1_dict, readout_dict)\n",
    "q2 = Qubit(q2_dict, readout_dict)\n",
    "readout = Readout(readout_dict)\n",
    "print(f\"{q1}\\n{q2}\")\n",
    "# bnc.set_DC_output(bnc_addr=C2_address, voltage=0.01)"
   ]
  },
  {
   "cell_type": "code",
   "execution_count": null,
   "metadata": {},
   "outputs": [
    {
     "name": "stdout",
     "output_type": "stream",
     "text": [
      "writing to C:\\arbsequences\\strong_dispersive_withPython\\test_pulse_ringupdown_bin\\\n",
      "writing ch1\n",
      "writing ch2\n",
      "writing ch3\n"
     ]
    }
   ],
   "source": [
    "num_steps = 101\n",
    "sweep_time = 200\n",
    "reps = 2000\n",
    "\n",
    "# Run Rabi in ge manifold\n",
    "ge_vals, ge_df, ge_rabi_amp, ge_pi_time = qnhc.run_rabi(\n",
    "    q1, q2, general_vals_dict, num_steps, sweep_time, reps, manifold=\"ge\"\n",
    ")\n",
    "\n",
    "# Run Rabi in ef manifold\n",
    "ef_vals, ef_df, ef_rabi_amp, ef_pi_time = qnhc.run_rabi(\n",
    "    q1, q2, general_vals_dict, num_steps, sweep_time, reps, manifold=\"ef\"\n",
    ")\n",
    "\n",
    "initial_amp = ge_rabi_amp\n",
    "initial_time = ge_pi_time\n",
    "# validating the amp and time parameters using gp minimize on a bang bang sequence in ge manifold\n",
    "optimal_amp, optimal_time, result = qnhc.optimize_pi_pulse(\n",
    "    q1, q2, general_vals_dict, reps, initial_amp, initial_time, manifold=\"ge\"\n",
    ")\n",
    "\n",
    "print(f\"Optimal amplitude: {optimal_amp}\")\n",
    "print(f\"Optimal time: {optimal_time}\")\n",
    "print(f\"Best score: {result.fun}\")\n",
    "\n",
    "print(f\"Amplitude Difference: {np.abs(ge_rabi_amp - optimal_amp)}\")\n",
    "print(f\"Time Difference: {np.abs(ge_pi_time - optimal_time)}\")\n",
    "\n",
    "q1.ge_time = optimal_time\n",
    "q1.ge_amp = optimal_amp\n",
    "q1.ef_time = optimal_time\n",
    "q1.ef_amp = optimal_amp\n",
    "\n",
    "\n"
   ]
  },
  {
   "cell_type": "code",
   "execution_count": null,
   "metadata": {},
   "outputs": [],
   "source": [
    "sweep_amp_center = 1\n",
    "sweep_freq_center = -0.020\n",
    "num_steps = 201\n",
    "reps  = 2000\n",
    "swap_optimal_freq, swap_optimal_time, swap_optimal_amp, swap_result = qnhc.optimize_swap_gate(q1, q2, general_vals_dict, reps, initial_freq, initial_amp)\n",
    "\n",
    "\n",
    "\n"
   ]
  }
 ],
 "metadata": {
  "kernelspec": {
   "display_name": "Python 3",
   "language": "python",
   "name": "python3"
  },
  "language_info": {
   "codemirror_mode": {
    "name": "ipython",
    "version": 3
   },
   "file_extension": ".py",
   "mimetype": "text/x-python",
   "name": "python",
   "nbconvert_exporter": "python",
   "pygments_lexer": "ipython3",
   "version": "3.12.3"
  }
 },
 "nbformat": 4,
 "nbformat_minor": 2
}
