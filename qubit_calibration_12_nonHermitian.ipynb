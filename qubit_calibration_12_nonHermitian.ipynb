{
 "cells": [
  {
   "cell_type": "code",
   "execution_count": 2,
   "metadata": {},
   "outputs": [],
   "source": [
    "import numpy as np\n",
    "import os\n",
    "import matplotlib.pyplot as plt\n",
    "import pandas as pd\n",
    "import sys\n",
    "import hardware_control.wx_programs as wx\n",
    "import hardware_control.bnc as bnc\n",
    "from classes.generator import *\n",
    "from hardware_control.hardware_config import *\n",
    "from experiment_configuration.values import *\n",
    "from classes.qubit_class import *\n",
    "import daq.daq_programs_homo as daq\n",
    "import seaborn as sns\n",
    "import standard_sequences.rabi as rabi\n",
    "import analysis.plotting as plotting\n",
    "import analysis.analysis as analysis\n",
    "import standard_sequences.spectroscopy as spec\n",
    "import standard_sequences.rabi as rabi\n",
    "import standard_sequences.T1_measurements as T1\n",
    "import standard_sequences.parametric_coupling as parametric_coupling\n",
    "import qubit_nonH_cal as qnhc "
   ]
  },
  {
   "cell_type": "code",
   "execution_count": 3,
   "metadata": {},
   "outputs": [],
   "source": [
    "wx_addr = wx.get_wx_address()\n",
    "bnc.set_bnc_output(\n",
    "    general_vals_dict[\"qubit_bnc\"], power_dBm=13, bnc_addr=target_bnc_address_6\n",
    ")\n",
    "bnc.set_bnc_output(\n",
    "    readout_dict[\"RO_LO\"],\n",
    "    power_dBm=readout_dict[\"RO_LO_pwr\"],\n",
    "    bnc_addr=bnc_address[\"target_bnc_black\"],\n",
    ")\n"
   ]
  },
  {
   "cell_type": "code",
   "execution_count": 4,
   "metadata": {},
   "outputs": [
    {
     "name": "stdout",
     "output_type": "stream",
     "text": [
      "Qubit(ro_amp=0.5, ef_half_amp=1.3, ge_time=77, ge_amp=1, RO_IF=None, RO_LO=6.6247, qubit_thr=[-10000, -600], ef_ssm=-0.25684, qubit_id=q1, RO_LO_pwr=16, ef_amp=1.5, ro_dur=3000, ge_ssm=-0.117, ef_time=44, IQ_angle=60, ef_half_time=25, RO_LO_45=6.3804, mixer_offset_ef=6, ROIF=0.1026600000000002, mixer_offset_ge=2.5, RO_LO_34=6.4804, ro_freq=6.72736)\n",
      "Qubit(ro_amp=0.45, ef_half_amp=None, ge_time=62, ge_amp=1, RO_IF=None, RO_LO=6.6247, qubit_thr=[-10000, 1900], ef_ssm=-0.2962, qubit_id=q2, RO_LO_pwr=16, ef_amp=1, ro_dur=3000, ge_ssm=-0.155, ef_time=None, IQ_angle=25, ef_half_time=None, RO_LO_45=6.3804, mixer_offset_ef=None, ROIF=0.030739999999999768, mixer_offset_ge=2.5, RO_LO_34=6.4804, ro_freq=6.65544)\n"
     ]
    }
   ],
   "source": [
    "q1 = Qubit(q1_dict, readout_dict)\n",
    "q2 = Qubit(q2_dict, readout_dict)\n",
    "readout = Readout(readout_dict)\n",
    "print(f\"{q1}\\n{q2}\")\n",
    "# bnc.set_DC_output(bnc_addr=C2_address, voltage=0.01)"
   ]
  },
  {
   "cell_type": "code",
   "execution_count": null,
   "metadata": {},
   "outputs": [],
   "source": [
    "num_steps = 101\n",
    "sweep_time = 200\n",
    "reps = 2000\n",
    "\n",
    "# Run Rabi in ge manifold\n",
    "ge_vals, ge_df, ge_rabi_amp, ge_pi_time = qnhc.run_rabi(\n",
    "    q1, q2, general_vals_dict, num_steps, sweep_time, reps, manifold=\"ge\"\n",
    ")\n",
    "\n",
    "# Run Rabi in ef manifold\n",
    "ef_vals, ef_df, ef_rabi_amp, ef_pi_time = qhnc.run_rabi(\n",
    "    q1, q2, general_vals_dict, num_steps, sweep_time, reps, manifold=\"ef\"\n",
    ")\n",
    "\n",
    "\n",
    "# validating the amp and time parameters using gp minimize on a bang bang sequence in ge manifold\n",
    "optimal_amp, optimal_time, result = qnhc.optimize_pi_pulse(\n",
    "    q1, q2, general_vals_dict, reps, initial_amp, initial_time, manifold=\"ge\"\n",
    ")\n",
    "\n",
    "print(f\"Optimal amplitude: {optimal_amp}\")\n",
    "print(f\"Optimal time: {optimal_time}\")\n",
    "print(f\"Best score: {result.fun}\")\n",
    "\n",
    "print(f\"Amplitude Difference: {np.abs(ge_rabi_amp - optimal_amp)}\")\n",
    "print(f\"Time Difference: {np.abs(ge_pi_time - optimal_time)}\")\n",
    "\n",
    "q1.ge_time = optimal_time\n",
    "q1.ge_amp = optimal_amp\n",
    "q1.ef_time = optimal_time\n",
    "q1.ef_amp = optimal_amp\n",
    "\n",
    "\n"
   ]
  },
  {
   "cell_type": "code",
   "execution_count": null,
   "metadata": {},
   "outputs": [],
   "source": [
    "sweep_amp_center = 1\n",
    "sweep_freq_center = -0.020\n",
    "num_steps = 201\n",
    "reps  = 2000\n",
    "swap_optimal_freq, swap_optimal_time, swap_optimal_amp, swap_result = qnhc.optimize_swap_gate(q1, q2, general_vals_dict, reps, initial_freq, initial_amp)\n",
    "\n",
    "\n",
    "\n"
   ]
  }
 ],
 "metadata": {
  "kernelspec": {
   "display_name": "Python 3",
   "language": "python",
   "name": "python3"
  },
  "language_info": {
   "codemirror_mode": {
    "name": "ipython",
    "version": 3
   },
   "file_extension": ".py",
   "mimetype": "text/x-python",
   "name": "python",
   "nbconvert_exporter": "python",
   "pygments_lexer": "ipython3",
   "version": "3.12.3"
  }
 },
 "nbformat": 4,
 "nbformat_minor": 2
}
