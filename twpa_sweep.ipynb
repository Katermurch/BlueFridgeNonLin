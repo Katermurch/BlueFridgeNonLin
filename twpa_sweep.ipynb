{
 "cells": [
  {
   "cell_type": "code",
   "execution_count": 1,
   "metadata": {},
   "outputs": [
    {
     "ename": "ModuleNotFoundError",
     "evalue": "No module named 'usbtmc'",
     "output_type": "error",
     "traceback": [
      "\u001b[0;31m---------------------------------------------------------------------------\u001b[0m",
      "\u001b[0;31mModuleNotFoundError\u001b[0m                       Traceback (most recent call last)",
      "Cell \u001b[0;32mIn[1], line 6\u001b[0m\n\u001b[1;32m      4\u001b[0m \u001b[38;5;28;01mimport\u001b[39;00m\u001b[38;5;250m \u001b[39m\u001b[38;5;21;01mpandas\u001b[39;00m\u001b[38;5;250m \u001b[39m\u001b[38;5;28;01mas\u001b[39;00m\u001b[38;5;250m \u001b[39m\u001b[38;5;21;01mpd\u001b[39;00m\n\u001b[1;32m      5\u001b[0m \u001b[38;5;28;01mimport\u001b[39;00m\u001b[38;5;250m \u001b[39m\u001b[38;5;21;01msys\u001b[39;00m\n\u001b[0;32m----> 6\u001b[0m \u001b[38;5;28;01mimport\u001b[39;00m\u001b[38;5;250m \u001b[39m\u001b[38;5;21;01mhardware_control\u001b[39;00m\u001b[38;5;21;01m.\u001b[39;00m\u001b[38;5;21;01mwx_programs\u001b[39;00m\u001b[38;5;250m \u001b[39m\u001b[38;5;28;01mas\u001b[39;00m\u001b[38;5;250m \u001b[39m\u001b[38;5;21;01mwx\u001b[39;00m\n\u001b[1;32m      7\u001b[0m \u001b[38;5;28;01mimport\u001b[39;00m\u001b[38;5;250m \u001b[39m\u001b[38;5;21;01mhardware_control\u001b[39;00m\u001b[38;5;21;01m.\u001b[39;00m\u001b[38;5;21;01mbnc\u001b[39;00m\u001b[38;5;250m \u001b[39m\u001b[38;5;28;01mas\u001b[39;00m\u001b[38;5;250m \u001b[39m\u001b[38;5;21;01mbnc\u001b[39;00m\n\u001b[1;32m      8\u001b[0m \u001b[38;5;28;01mfrom\u001b[39;00m\u001b[38;5;250m \u001b[39m\u001b[38;5;21;01mclasses\u001b[39;00m\u001b[38;5;21;01m.\u001b[39;00m\u001b[38;5;21;01mgenerator\u001b[39;00m\u001b[38;5;250m \u001b[39m\u001b[38;5;28;01mimport\u001b[39;00m \u001b[38;5;241m*\u001b[39m\n",
      "File \u001b[0;32m~/research_ref/lab_code_git/BlueFridgeNonLin/hardware_control/wx_programs.py:13\u001b[0m\n\u001b[1;32m     11\u001b[0m \u001b[38;5;28;01mif\u001b[39;00m parent_dir \u001b[38;5;129;01mnot\u001b[39;00m \u001b[38;5;129;01min\u001b[39;00m sys\u001b[38;5;241m.\u001b[39mpath:\n\u001b[1;32m     12\u001b[0m     sys\u001b[38;5;241m.\u001b[39mpath\u001b[38;5;241m.\u001b[39minsert(\u001b[38;5;241m0\u001b[39m, parent_dir)\n\u001b[0;32m---> 13\u001b[0m \u001b[38;5;28;01mfrom\u001b[39;00m\u001b[38;5;250m \u001b[39m\u001b[38;5;21;01m.\u001b[39;00m\u001b[38;5;250m \u001b[39m\u001b[38;5;28;01mimport\u001b[39;00m tewx\n\u001b[1;32m     14\u001b[0m \u001b[38;5;28;01mfrom\u001b[39;00m\u001b[38;5;250m \u001b[39m\u001b[38;5;21;01m.\u001b[39;00m\u001b[38;5;250m \u001b[39m\u001b[38;5;28;01mimport\u001b[39;00m expt_parameters \u001b[38;5;28;01mas\u001b[39;00m expt_parameters\n\u001b[1;32m     17\u001b[0m \u001b[38;5;28;01mdef\u001b[39;00m\u001b[38;5;250m \u001b[39m\u001b[38;5;21mget_wx_address\u001b[39m():\n",
      "File \u001b[0;32m~/research_ref/lab_code_git/BlueFridgeNonLin/hardware_control/tewx.py:48\u001b[0m\n\u001b[1;32m     43\u001b[0m \u001b[38;5;28;01mimport\u001b[39;00m\u001b[38;5;250m \u001b[39m\u001b[38;5;21;01mposixpath\u001b[39;00m\n\u001b[1;32m     45\u001b[0m \u001b[38;5;66;03m# import unicodedata\u001b[39;00m\n\u001b[1;32m     46\u001b[0m \n\u001b[1;32m     47\u001b[0m \u001b[38;5;66;03m# try:\u001b[39;00m\n\u001b[0;32m---> 48\u001b[0m \u001b[38;5;28;01mimport\u001b[39;00m\u001b[38;5;250m \u001b[39m\u001b[38;5;21;01musbtmc\u001b[39;00m\n\u001b[1;32m     50\u001b[0m _usbtmc_supported \u001b[38;5;241m=\u001b[39m \u001b[38;5;28;01mTrue\u001b[39;00m\n\u001b[1;32m     52\u001b[0m \u001b[38;5;28;01mimport\u001b[39;00m\u001b[38;5;250m \u001b[39m\u001b[38;5;21;01musb\u001b[39;00m\n",
      "\u001b[0;31mModuleNotFoundError\u001b[0m: No module named 'usbtmc'"
     ]
    }
   ],
   "source": [
    "import numpy as np\n",
    "import os\n",
    "import matplotlib.pyplot as plt\n",
    "import pandas as pd\n",
    "import sys\n",
    "import hardware_control.wx_programs as wx\n",
    "import hardware_control.bnc as bnc\n",
    "from classes.generator import *\n",
    "from hardware_control.hardware_config import *\n",
    "from experiment_configuration.values import *\n",
    "from classes.qubit_class import *\n",
    "import daq.daq_programs_homo as daq\n",
    "import seaborn as sns\n",
    "import standard_sequences.pinopi as pnp\n",
    "import analysis.plotting as plotting"
   ]
  },
  {
   "cell_type": "code",
   "execution_count": null,
   "metadata": {},
   "outputs": [],
   "source": [
    "q1 = Qubit(q1_dict, readout_dict)\n",
    "q2 = Qubit(q2_dict, readout_dict)\n",
    "general_vals_dict[\"wx_offs\"] = [0, 0, -0.08, 0]\n",
    "readout = Readout(readout_dict)\n",
    "print(f\"{q1}\\n{q2}\")"
   ]
  },
  {
   "cell_type": "code",
   "execution_count": null,
   "metadata": {},
   "outputs": [
    {
     "ename": "NameError",
     "evalue": "name 'pnp' is not defined",
     "output_type": "error",
     "traceback": [
      "\u001b[0;31m---------------------------------------------------------------------------\u001b[0m",
      "\u001b[0;31mNameError\u001b[0m                                 Traceback (most recent call last)",
      "Cell \u001b[0;32mIn[2], line 15\u001b[0m\n\u001b[1;32m     13\u001b[0m reps \u001b[38;5;241m=\u001b[39m \u001b[38;5;241m15000\u001b[39m\n\u001b[1;32m     14\u001b[0m num_steps \u001b[38;5;241m=\u001b[39m \u001b[38;5;241m3\u001b[39m\n\u001b[0;32m---> 15\u001b[0m values \u001b[38;5;241m=\u001b[39m \u001b[43mrun_pi_no_pi\u001b[49m\u001b[43m(\u001b[49m\u001b[43mnum_steps\u001b[49m\u001b[43m,\u001b[49m\u001b[43m \u001b[49m\u001b[43mreps\u001b[49m\u001b[43m)\u001b[49m\n",
      "Cell \u001b[0;32mIn[2], line 2\u001b[0m, in \u001b[0;36mrun_pi_no_pi\u001b[0;34m(num_steps, reps)\u001b[0m\n\u001b[1;32m      1\u001b[0m \u001b[38;5;28;01mdef\u001b[39;00m\u001b[38;5;250m \u001b[39m\u001b[38;5;21mrun_pi_no_pi\u001b[39m(num_steps, reps):\n\u001b[0;32m----> 2\u001b[0m     \u001b[43mpnp\u001b[49m\u001b[38;5;241m.\u001b[39mpi_nopi_ge(\u001b[38;5;241m0\u001b[39m, \u001b[38;5;241m0\u001b[39m, q2, q1, general_vals_dict)\n\u001b[1;32m      3\u001b[0m     pnp\u001b[38;5;241m.\u001b[39mpi_nopi_ge(\u001b[38;5;241m1\u001b[39m, \u001b[38;5;241m1\u001b[39m, q2, q1, general_vals_dict)\n\u001b[1;32m      4\u001b[0m     wx\u001b[38;5;241m.\u001b[39mwx_set_and_amplitude_and_offset(\n\u001b[1;32m      5\u001b[0m         amp\u001b[38;5;241m=\u001b[39mgeneral_vals_dict[\u001b[38;5;124m\"\u001b[39m\u001b[38;5;124mwx_amps\u001b[39m\u001b[38;5;124m\"\u001b[39m], offset\u001b[38;5;241m=\u001b[39mgeneral_vals_dict[\u001b[38;5;124m\"\u001b[39m\u001b[38;5;124mwx_offs\u001b[39m\u001b[38;5;124m\"\u001b[39m]\n\u001b[1;32m      6\u001b[0m     )\n",
      "\u001b[0;31mNameError\u001b[0m: name 'pnp' is not defined"
     ]
    }
   ],
   "source": [
    "def pi_nopipi_twpa_loss(twpa_freq, twpa_power, reps=10000):\n",
    "    \"\"\"\n",
    "    Loss function to optimize TWPA frequency and power by maximizing SNR.\n",
    "    Computes SNR from raw IQ data using sample mean and std, no fitting.\n",
    "\n",
    "    Parameters:\n",
    "        twpa_freq (float): Frequency of the TWPA (Hz)\n",
    "        twpa_power (float): Power into the TWPA (dBm)\n",
    "        reps (int): Number of repetitions per pattern (default: 10,000)\n",
    "\n",
    "    Returns:\n",
    "        float: Negative SNR (loss to minimize)\n",
    "    \"\"\"\n",
    "    # Set TWPA hardware parameters\n",
    "    hardware.set_twpa_frequency(twpa_freq)\n",
    "    hardware.set_twpa_power(twpa_power)\n",
    "\n",
    "    # Prepare measurement patterns\n",
    "    pnp.pi_nopi_ge(0, 0, q2, q1, general_vals_dict)\n",
    "    pnp.pi_nopi_ge(1, 1, q2, q1, general_vals_dict)\n",
    "    wx.wx_set_and_amplitude_and_offset(\n",
    "        amp=general_vals_dict[\"wx_amps\"], offset=general_vals_dict[\"wx_offs\"]\n",
    "    )\n",
    "\n",
    "    # Run DAQ\n",
    "    values = daq.run_daq_het_2q(q1, q2, num_patterns=3, num_records_per_pattern=reps)\n",
    "\n",
    "    # Extract raw IQ data (assuming 2D array: [2, reps, 2])\n",
    "    readout_vs_pats = values.rec_readout_vs_pats_2\n",
    "\n",
    "    # Compute SNR directly\n",
    "    I_g = readout_vs_pats[0, :, 0]\n",
    "    I_e = readout_vs_pats[0, :, 1]\n",
    "    Q_g = readout_vs_pats[1, :, 0]\n",
    "    Q_e = readout_vs_pats[1, :, 1]\n",
    "\n",
    "    mu_I_g, mu_I_e = np.mean(I_g), np.mean(I_e)\n",
    "    mu_Q_g, mu_Q_e = np.mean(Q_g), np.mean(Q_e)\n",
    "    std_I_g, std_I_e = np.std(I_g), np.std(I_e)\n",
    "    std_Q_g, std_Q_e = np.std(Q_g), np.std(Q_e)\n",
    "\n",
    "    signal = np.sqrt((mu_I_g - mu_I_e)**2 + (mu_Q_g - mu_Q_e)**2)\n",
    "    noise = (np.abs(std_I_g) + np.abs(std_I_e) + np.abs(std_Q_g) + np.abs(std_Q_e)) / 4\n",
    "    SNR = signal / noise\n",
    "\n",
    "    # Return negative SNR as a loss to minimize\n",
    "    return -SNR\n",
    "\n"
   ]
  },
  {
   "cell_type": "code",
   "execution_count": null,
   "metadata": {},
   "outputs": [],
   "source": []
  },
  {
   "cell_type": "code",
   "execution_count": null,
   "metadata": {},
   "outputs": [],
   "source": []
  },
  {
   "cell_type": "code",
   "execution_count": null,
   "metadata": {},
   "outputs": [],
   "source": []
  }
 ],
 "metadata": {
  "kernelspec": {
   "display_name": "base",
   "language": "python",
   "name": "python3"
  },
  "language_info": {
   "codemirror_mode": {
    "name": "ipython",
    "version": 3
   },
   "file_extension": ".py",
   "mimetype": "text/x-python",
   "name": "python",
   "nbconvert_exporter": "python",
   "pygments_lexer": "ipython3",
   "version": "3.11.6"
  }
 },
 "nbformat": 4,
 "nbformat_minor": 2
}
