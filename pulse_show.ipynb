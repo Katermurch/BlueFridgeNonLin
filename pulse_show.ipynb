{
 "cells": [
  {
   "cell_type": "code",
   "execution_count": 2,
   "metadata": {},
   "outputs": [],
   "source": [
    "from classes.generator import *\n",
    "from hardware_control.wx_programs import *\n",
    "import numpy as np"
   ]
  },
  {
   "cell_type": "code",
   "execution_count": 3,
   "metadata": {},
   "outputs": [],
   "source": [
    "sweep_time =310\n",
    "totlength = sweep_time + 4000  # Extra buffer time\n",
    "file_length = 10000 * (int(np.ceil(totlength / 10000)) + 1)\n",
    "readout_dur = 4000\n",
    "spec_amp = 1.9\n",
    "ssm_para =-.0192\n",
    "parametric_drive = Pulse(\n",
    "        start=file_length - readout_dur,\n",
    "        duration=0,  # Initially zero, swept in time\n",
    "        amplitude=spec_amp,\n",
    "        ssm_freq=ssm_para,\n",
    "        phase=0,)"
   ]
  },
  {
   "cell_type": "code",
   "execution_count": 10,
   "metadata": {},
   "outputs": [
    {
     "data": {
      "text/plain": [
       "array([], dtype=float64)"
      ]
     },
     "execution_count": 10,
     "metadata": {},
     "output_type": "execute_result"
    }
   ],
   "source": [
    "parametric_drive.make()"
   ]
  },
  {
   "cell_type": "code",
   "execution_count": null,
   "metadata": {},
   "outputs": [],
   "source": []
  }
 ],
 "metadata": {
  "kernelspec": {
   "display_name": "Python 3",
   "language": "python",
   "name": "python3"
  },
  "language_info": {
   "codemirror_mode": {
    "name": "ipython",
    "version": 3
   },
   "file_extension": ".py",
   "mimetype": "text/x-python",
   "name": "python",
   "nbconvert_exporter": "python",
   "pygments_lexer": "ipython3",
   "version": "3.12.3"
  }
 },
 "nbformat": 4,
 "nbformat_minor": 2
}
