{
 "cells": [
  {
   "cell_type": "code",
   "execution_count": 5,
   "metadata": {},
   "outputs": [],
   "source": [
    "import numpy as np\n",
    "import os\n",
    "import matplotlib.pyplot as plt\n",
    "import pandas as pd\n",
    "import sys\n",
    "import hardware_control.wx_programs as wx\n",
    "import hardware_control.bnc as bnc\n",
    "from classes.generator import *\n",
    "from hardware_control.hardware_config import *\n",
    "from experiment_configuration.values import *\n",
    "from classes.qubit_class import *\n",
    "import daq.daq_programs_homo as daq\n",
    "import seaborn as sns\n",
    "import standard_sequences.parametric_coupling as pmc\n",
    "import analysis.plotting as plotting\n",
    "import analysis.analysis as analysis"
   ]
  },
  {
   "cell_type": "code",
   "execution_count": null,
   "metadata": {},
   "outputs": [],
   "source": [
    "q1 = Qubit(q1_dict, readout_dict)\n",
    "q2 = Qubit(q2_dict, readout_dict)\n",
    "readout = Readout(readout_dict)\n",
    "print(f\"{q1}\\n{q2}\")"
   ]
  },
  {
   "cell_type": "code",
   "execution_count": 6,
   "metadata": {},
   "outputs": [],
   "source": [
    "wx_addr = wx.get_wx_address()\n",
    "main_directory = r\"C:\\Users\\quantum1\\Documents\"\n",
    "save_dir = rf\"{main_directory}\\Python Scripts\\Important Blue Fridge Python Files\\New\\nonlinear_QM\\data\"\n",
    "target_bnc_address_6 = \"USB0::0x03EB::0xAFFF::411-433500000-0753::INSTR\"\n",
    "bnc.set_bnc_output(\n",
    "    general_vals_dict[\"qubit_bnc\"], power_dBm=13, bnc_addr=target_bnc_address_6\n",
    ")"
   ]
  },
  {
   "cell_type": "code",
   "execution_count": null,
   "metadata": {},
   "outputs": [
    {
     "ename": "SyntaxError",
     "evalue": "incomplete input (1998823384.py, line 2)",
     "output_type": "error",
     "traceback": [
      "\u001b[1;36m  Cell \u001b[1;32mIn[7], line 2\u001b[1;36m\u001b[0m\n\u001b[1;33m    for frequency in freq_list:\u001b[0m\n\u001b[1;37m                               ^\u001b[0m\n\u001b[1;31mSyntaxError\u001b[0m\u001b[1;31m:\u001b[0m incomplete input\n"
     ]
    }
   ],
   "source": [
    "def swap_gate_sweep(freq_list):\n",
    "    for frequency in freq_list:\n",
    "        pmc.parametric_coupling_time_domain"
   ]
  },
  {
   "cell_type": "code",
   "execution_count": null,
   "metadata": {},
   "outputs": [],
   "source": []
  }
 ],
 "metadata": {
  "kernelspec": {
   "display_name": "Python 3",
   "language": "python",
   "name": "python3"
  },
  "language_info": {
   "codemirror_mode": {
    "name": "ipython",
    "version": 3
   },
   "file_extension": ".py",
   "mimetype": "text/x-python",
   "name": "python",
   "nbconvert_exporter": "python",
   "pygments_lexer": "ipython3",
   "version": "3.12.3"
  }
 },
 "nbformat": 4,
 "nbformat_minor": 2
}
