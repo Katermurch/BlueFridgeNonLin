{
 "cells": [
  {
   "cell_type": "code",
   "execution_count": 1,
   "metadata": {},
   "outputs": [],
   "source": [
    "import numpy as np\n",
    "import os\n",
    "import matplotlib.pyplot as plt\n",
    "import pandas as pd\n",
    "import sys\n",
    "import hardware_control.wx_programs as wx\n",
    "import hardware_control.bnc as bnc\n",
    "from classes.generator import *\n",
    "from hardware_control.hardware_config import *\n",
    "from experiment_configuration.values import *\n",
    "from classes.qubit_class import *\n",
    "import daq.daq_programs_homo as daq\n",
    "import seaborn as sns\n",
    "import standard_sequences.rabi as rabi\n",
    "import analysis.plotting as plotting\n",
    "import analysis.analysis as analysis"
   ]
  },
  {
   "cell_type": "code",
   "execution_count": 2,
   "metadata": {},
   "outputs": [
    {
     "name": "stdout",
     "output_type": "stream",
     "text": [
      "Qubit(mixer_offset_ef=6, qubit_thr=[-10000, -600], mixer_offset_ge=2.5, RO_LO=6.6247, ro_amp=0.37, ge_amp=1.01, ge_ssm=-0.1144, ef_time=44, ef_ssm=-0.2568, ROIF=0.10268999999999995, ge_time=77, ef_half_amp_y=1.348, IQ_angle=60, ef_amp=1.5, RO_IF=None, ro_freq=6.72739, RO_LO_pwr=16, qubit_id=q1, ef_half_time=25, ef_half_amp_x=1.348, ro_dur=5000)\n",
      "Qubit(mixer_offset_ef=None, qubit_thr=[-10000, 1900], mixer_offset_ge=None, RO_LO=6.6247, ro_amp=0.5, ge_amp=0.8, ge_ssm=-0.154, ef_time=None, ef_ssm=-0.2962, ROIF=0.030840000000000423, ge_time=74, ef_half_amp_y=None, IQ_angle=25, ef_amp=1, RO_IF=None, ro_freq=6.65554, RO_LO_pwr=16, qubit_id=q2, ef_half_time=None, ef_half_amp_x=None, ro_dur=5000)\n"
     ]
    }
   ],
   "source": [
    "q1 = Qubit(q1_dict, readout_dict)\n",
    "q2 = Qubit(q2_dict, readout_dict)\n",
    "readout = Readout(readout_dict)\n",
    "print(f\"{q1}\\n{q2}\")\n",
    " # -0.08"
   ]
  },
  {
   "cell_type": "code",
   "execution_count": 3,
   "metadata": {},
   "outputs": [],
   "source": [
    "wx_addr = wx.get_wx_address()\n",
    "main_directory = r\"C:\\Users\\quantum1\\Documents\"\n",
    "save_dir = rf\"{main_directory}\\Python Scripts\\Important Blue Fridge Python Files\\New\\nonlinear_QM\\data\"\n",
    "target_bnc_address_6 = \"USB0::0x03EB::0xAFFF::411-433500000-0753::INSTR\"\n",
    "bnc.set_bnc_output(\n",
    "    general_vals_dict[\"qubit_bnc\"], power_dBm=13, bnc_addr=target_bnc_address_6\n",
    ")\n",
    "bnc.set_bnc_output(\n",
    "    readout_dict[\"RO_LO\"],\n",
    "    power_dBm=readout_dict[\"RO_LO_pwr\"],\n",
    "    bnc_addr=bnc_address[\"target_bnc_black\"],\n",
    ")\n",
    "bnc.set_bnc_output(\n",
    "    general_vals_dict[\"TWPA_freq\"],\n",
    "    general_vals_dict[\"TWPA_pwr\"],\n",
    "    bnc_addr=bnc_address[\"big_agilent\"],\n",
    ")"
   ]
  },
  {
   "cell_type": "code",
   "execution_count": 4,
   "metadata": {},
   "outputs": [],
   "source": [
    "# phase_offset=6\n",
    "# rabi.test_rabi_ge(q1, q2, general_vals_dict, 1,phase_offset )\n",
    "# wx.wx_set_and_amplitude_and_offset(\n",
    "#         amp=general_vals_dict[\"wx_amps\"], offset=general_vals_dict[\"wx_offs\"]\n",
    "#     )\n",
    "# values = daq.run_daq_het_2q(\n",
    "#         q1, q2, num_patterns=1, num_records_per_pattern=1000, verbose=True\n",
    "#     )"
   ]
  },
  {
   "cell_type": "code",
   "execution_count": 5,
   "metadata": {},
   "outputs": [],
   "source": [
    "# values = daq.run_daq_het_2q(\n",
    "#         q2, q1, num_patterns=1, num_records_per_pattern=5000, verbose=True\n",
    "#     )"
   ]
  },
  {
   "cell_type": "code",
   "execution_count": null,
   "metadata": {},
   "outputs": [],
   "source": [
    "def run_rabi(\n",
    "    q1,\n",
    "    q2,\n",
    "    general_vals_dict,\n",
    "    num_steps: int,\n",
    "    sweep_time: float,\n",
    "    reps: int,\n",
    "):\n",
    "    \"\"\"\n",
    "    Runs a single instance of the geRabi experiment\n",
    "    and processes the resulting IQ data to compute probabilities vs. time.\n",
    "\n",
    "    Returns:\n",
    "        df_prob (pd.DataFrame): A DataFrame whose index is the time (computed as\n",
    "                                np.linspace(0, sweep_time/1000, num_steps)) and which has\n",
    "                                columns ['P_f', 'P_e', 'P_g'] corresponding to the probabilities\n",
    "                                of the f, e, and g states respectively.\n",
    "    \"\"\"\n",
    "    # Run the experiment\n",
    "    rabi.rabi_ge(q1, q2, general_vals_dict, num_steps, sweep_time)\n",
    "    wx.wx_set_and_amplitude_and_offset(\n",
    "        amp=general_vals_dict[\"wx_amps\"], offset=general_vals_dict[\"wx_offs\"]\n",
    "    )\n",
    "    # Acquire the raw IQ data\n",
    "    values = daq.run_daq_het_2q(\n",
    "        q1, q2, num_patterns=num_steps, num_records_per_pattern=reps, verbose=True\n",
    "    )\n",
    "\n",
    "    # Retrieve raw IQ data from the acquired values\n",
    "    I1_raw = values.rec_readout_1[0]\n",
    "    Q1_raw = values.rec_readout_1[1]\n",
    "    I2_raw = values.rec_readout_2[0]\n",
    "    Q2_raw = values.rec_readout_2[1]\n",
    "\n",
    "    # Build a DataFrame from the IQ data for classification\n",
    "    IQ_df = pd.DataFrame({\"I1\": I1_raw, \"Q1\": Q1_raw, \"I2\": I2_raw, \"Q2\": Q2_raw})\n",
    "    return values, IQ_df"
   ]
  },
  {
   "cell_type": "code",
   "execution_count": 7,
   "metadata": {},
   "outputs": [
    {
     "ename": "TypeError",
     "evalue": "unsupported operand type(s) for +: 'int' and 'NoneType'",
     "output_type": "error",
     "traceback": [
      "\u001b[1;31m---------------------------------------------------------------------------\u001b[0m",
      "\u001b[1;31mTypeError\u001b[0m                                 Traceback (most recent call last)",
      "Cell \u001b[1;32mIn[7], line 4\u001b[0m\n\u001b[0;32m      2\u001b[0m reps \u001b[38;5;241m=\u001b[39m \u001b[38;5;241m2000\u001b[39m\n\u001b[0;32m      3\u001b[0m sweep_time \u001b[38;5;241m=\u001b[39m \u001b[38;5;241m100\u001b[39m\n\u001b[1;32m----> 4\u001b[0m values, IQ_df \u001b[38;5;241m=\u001b[39m \u001b[43mrun_rabi\u001b[49m\u001b[43m(\u001b[49m\u001b[43mq1\u001b[49m\u001b[43m,\u001b[49m\u001b[43mq2\u001b[49m\u001b[43m,\u001b[49m\u001b[43mgeneral_vals_dict\u001b[49m\u001b[43m,\u001b[49m\u001b[43mnum_steps\u001b[49m\u001b[43m,\u001b[49m\u001b[43m \u001b[49m\u001b[43msweep_time\u001b[49m\u001b[43m,\u001b[49m\u001b[43m \u001b[49m\u001b[43mreps\u001b[49m\u001b[43m)\u001b[49m\n",
      "Cell \u001b[1;32mIn[6], line 20\u001b[0m, in \u001b[0;36mrun_rabi\u001b[1;34m(q1, q2, general_vals_dict, num_steps, sweep_time, reps)\u001b[0m\n\u001b[0;32m      9\u001b[0m \u001b[38;5;250m\u001b[39m\u001b[38;5;124;03m\"\"\"\u001b[39;00m\n\u001b[0;32m     10\u001b[0m \u001b[38;5;124;03mRuns a single instance of the geRabi experiment\u001b[39;00m\n\u001b[0;32m     11\u001b[0m \u001b[38;5;124;03mand processes the resulting IQ data to compute probabilities vs. time.\u001b[39;00m\n\u001b[1;32m   (...)\u001b[0m\n\u001b[0;32m     17\u001b[0m \u001b[38;5;124;03m                            of the f, e, and g states respectively.\u001b[39;00m\n\u001b[0;32m     18\u001b[0m \u001b[38;5;124;03m\"\"\"\u001b[39;00m\n\u001b[0;32m     19\u001b[0m \u001b[38;5;66;03m# Run the experiment\u001b[39;00m\n\u001b[1;32m---> 20\u001b[0m \u001b[43mrabi\u001b[49m\u001b[38;5;241;43m.\u001b[39;49m\u001b[43mrabi_ge\u001b[49m\u001b[43m(\u001b[49m\u001b[43mq2\u001b[49m\u001b[43m,\u001b[49m\u001b[43m \u001b[49m\u001b[43mq1\u001b[49m\u001b[43m,\u001b[49m\u001b[43m \u001b[49m\u001b[43mgeneral_vals_dict\u001b[49m\u001b[43m,\u001b[49m\u001b[43m \u001b[49m\u001b[43mnum_steps\u001b[49m\u001b[43m,\u001b[49m\u001b[43m \u001b[49m\u001b[43msweep_time\u001b[49m\u001b[43m)\u001b[49m\n\u001b[0;32m     21\u001b[0m wx\u001b[38;5;241m.\u001b[39mwx_set_and_amplitude_and_offset(\n\u001b[0;32m     22\u001b[0m     amp\u001b[38;5;241m=\u001b[39mgeneral_vals_dict[\u001b[38;5;124m\"\u001b[39m\u001b[38;5;124mwx_amps\u001b[39m\u001b[38;5;124m\"\u001b[39m], offset\u001b[38;5;241m=\u001b[39mgeneral_vals_dict[\u001b[38;5;124m\"\u001b[39m\u001b[38;5;124mwx_offs\u001b[39m\u001b[38;5;124m\"\u001b[39m]\n\u001b[0;32m     23\u001b[0m )\n\u001b[0;32m     24\u001b[0m \u001b[38;5;66;03m# Acquire the raw IQ data\u001b[39;00m\n",
      "File \u001b[1;32mc:\\Users\\quantum1\\OneDrive\\Documents\\Python Scripts\\Important Blue Fridge Python Files\\New\\nonlinear_QM\\standard_sequences\\rabi.py:63\u001b[0m, in \u001b[0;36mrabi_ge\u001b[1;34m(qubit_rabi, qubit2, gen_vals, num_steps, sweep_time)\u001b[0m\n\u001b[0;32m     56\u001b[0m phase_offset \u001b[38;5;241m=\u001b[39m gen_vals[\u001b[38;5;124m\"\u001b[39m\u001b[38;5;124mmixer_offset\u001b[39m\u001b[38;5;124m\"\u001b[39m]\n\u001b[0;32m     57\u001b[0m buffer \u001b[38;5;241m=\u001b[39m \u001b[38;5;241m0\u001b[39m\n\u001b[0;32m     58\u001b[0m rabi_ge_x \u001b[38;5;241m=\u001b[39m Pulse(\n\u001b[0;32m     59\u001b[0m     start\u001b[38;5;241m=\u001b[39mfile_length \u001b[38;5;241m-\u001b[39m readout_dur  ,\n\u001b[0;32m     60\u001b[0m     duration\u001b[38;5;241m=\u001b[39m\u001b[38;5;241m0\u001b[39m,\n\u001b[0;32m     61\u001b[0m     amplitude\u001b[38;5;241m=\u001b[39mge_amp,\n\u001b[0;32m     62\u001b[0m     ssm_freq\u001b[38;5;241m=\u001b[39mqubit_rabi\u001b[38;5;241m.\u001b[39mge_ssm,\n\u001b[1;32m---> 63\u001b[0m     phase\u001b[38;5;241m=\u001b[39m\u001b[38;5;241;43m90\u001b[39;49m\u001b[38;5;241;43m+\u001b[39;49m\u001b[43mmixer_offset_ge\u001b[49m,\n\u001b[0;32m     64\u001b[0m )\n\u001b[0;32m     65\u001b[0m ringupdown_seq\u001b[38;5;241m.\u001b[39madd_sweep(\n\u001b[0;32m     66\u001b[0m     channel\u001b[38;5;241m=\u001b[39m\u001b[38;5;241m4\u001b[39m,\n\u001b[0;32m     67\u001b[0m     sweep_name\u001b[38;5;241m=\u001b[39m\u001b[38;5;124m\"\u001b[39m\u001b[38;5;124mwidth\u001b[39m\u001b[38;5;124m\"\u001b[39m,\n\u001b[1;32m   (...)\u001b[0m\n\u001b[0;32m     70\u001b[0m     initial_pulse\u001b[38;5;241m=\u001b[39mrabi_ge_x,\n\u001b[0;32m     71\u001b[0m )\n\u001b[0;32m     72\u001b[0m rabi_ge_y \u001b[38;5;241m=\u001b[39m Pulse(\n\u001b[0;32m     73\u001b[0m     start\u001b[38;5;241m=\u001b[39mfile_length \u001b[38;5;241m-\u001b[39m readout_dur ,\n\u001b[0;32m     74\u001b[0m     duration\u001b[38;5;241m=\u001b[39m\u001b[38;5;241m0\u001b[39m,\n\u001b[1;32m   (...)\u001b[0m\n\u001b[0;32m     77\u001b[0m     phase\u001b[38;5;241m=\u001b[39m\u001b[38;5;241m0\u001b[39m,\n\u001b[0;32m     78\u001b[0m )\n",
      "\u001b[1;31mTypeError\u001b[0m: unsupported operand type(s) for +: 'int' and 'NoneType'"
     ]
    }
   ],
   "source": [
    "num_steps = 101\n",
    "reps = 2000\n",
    "sweep_time = 100\n",
    "values, IQ_df = run_rabi(q1,q2,general_vals_dict,num_steps, sweep_time, reps)"
   ]
  },
  {
   "cell_type": "code",
   "execution_count": null,
   "metadata": {},
   "outputs": [
    {
     "name": "stdout",
     "output_type": "stream",
     "text": [
      "Q\n"
     ]
    },
    {
     "data": {
      "image/png": "[encoded data removed]",
      "text/plain": [
       "<Figure size 600x400 with 1 Axes>"
      ]
     },
     "metadata": {},
     "output_type": "display_data"
    },
    {
     "name": "stdout",
     "output_type": "stream",
     "text": [
      "\n",
      "\n",
      "  freq: 6.5353854068029875 +/- 0.14794629640534426\n",
      " gamma: 3.0518858710223133 +/- 1.9789994225178198\n",
      "   amp: -442.95977502633866 +/- 29.975231412891233\n",
      " phase: 82.22084418588143 +/- 6.013275036586807\n",
      "offset: -1908.0666293877657 +/- 29.008616306648502\n",
      "pi_pulse time: 0.07650658207234828 +/- 0.14794629640534426\n",
      "π_ge time = 76.50658207234828 ns\n"
     ]
    }
   ],
   "source": [
    "IQ_df = plotting.get_IQ_averages(values)\n",
    "Q = IQ_df[\"Q1\"]\n",
    "I = IQ_df[\"I1\"]\n",
    "Qrange = abs(np.max(Q) - np.min(Q))\n",
    "Irange = abs(np.max(I) - np.min(I))\n",
    "if Qrange > Irange:\n",
    "    print(\"Q\")\n",
    "    times = np.linspace(0, sweep_time / 1000, num_steps)\n",
    "    pi_ge_fit_vals, _, _, _ = analysis.fit_sine_decay(\n",
    "        times, Q, guess_vals=[11, 0.3, np.abs(np.max(Q) - np.min(Q)), 38, Q[0]]\n",
    "    )\n",
    "    pi_ge = abs((1 / 2 / pi_ge_fit_vals[0]) * 1000)\n",
    "    print(\"\\u03C0_ge time = {} ns\".format(pi_ge))\n",
    "else:\n",
    "    print(\"I\")\n",
    "    times = np.linspace(0, sweep_time / 1000, num_steps)\n",
    "    pi_ge_fit_vals, _, _, _ = analysis.fit_sine_decay(\n",
    "        times, I, guess_vals=[11, 0.3, np.abs(np.max(I) - np.min(I)), 38, I[0]]\n",
    "    )\n",
    "    pi_ge = abs((1 / 2 / pi_ge_fit_vals[0]) * 1000)\n",
    "    print(\"\\u03C0_ge time = {} ns\".format(pi_ge))"
   ]
  },
  {
   "cell_type": "code",
   "execution_count": null,
   "metadata": {},
   "outputs": [],
   "source": []
  }
 ],
 "metadata": {
  "kernelspec": {
   "display_name": "Python 3",
   "language": "python",
   "name": "python3"
  },
  "language_info": {
   "codemirror_mode": {
    "name": "ipython",
    "version": 3
   },
   "file_extension": ".py",
   "mimetype": "text/x-python",
   "name": "python",
   "nbconvert_exporter": "python",
   "pygments_lexer": "ipython3",
   "version": "3.12.3"
  }
 },
 "nbformat": 4,
 "nbformat_minor": 2
}
