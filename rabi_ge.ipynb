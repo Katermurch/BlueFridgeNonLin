{
 "cells": [
  {
   "cell_type": "code",
   "execution_count": 9,
   "metadata": {},
   "outputs": [],
   "source": [
    "import numpy as np\n",
    "import os\n",
    "import matplotlib.pyplot as plt\n",
    "import pandas as pd\n",
    "import sys\n",
    "import hardware_control.wx_programs as wx\n",
    "import hardware_control.bnc as bnc\n",
    "from classes.generator import *\n",
    "from hardware_control.hardware_config import *\n",
    "from experiment_configuration.values import *\n",
    "from classes.qubit_class import *\n",
    "import daq.daq_programs_homo as daq\n",
    "import seaborn as sns\n",
    "import standard_sequences.rabi as rabi\n",
    "import analysis.plotting as plotting\n",
    "import analysis.analysis as analysis"
   ]
  },
  {
   "cell_type": "code",
   "execution_count": 10,
   "metadata": {},
   "outputs": [
    {
     "name": "stdout",
     "output_type": "stream",
     "text": [
      "Qubit(ef_amp=1.49, ro_dur=5000, ef_time=44, ef_ssm=-0.2568, ge_ssm=-0.1144, ro_amp=0.35, ef_half_amp=1.31, ef_half_time=25, ro_freq=6.72739, qubit_id=q1, RO_IF=None, ge_time=77, IQ_angle=60, RO_LO_pwr=16, ge_amp=1.01, mixer_offset_ef=6, ROIF=0.10268999999999995, qubit_thr=[-10000, -600], RO_LO=6.6247, mixer_offset_ge=2.5)\n",
      "Qubit(ef_amp=1, ro_dur=5000, ef_time=None, ef_ssm=-0.2962, ge_ssm=-0.154, ro_amp=0.5, ef_half_amp=None, ef_half_time=None, ro_freq=6.65554, qubit_id=q2, RO_IF=None, ge_time=74, IQ_angle=25, RO_LO_pwr=16, ge_amp=0.4, mixer_offset_ef=None, ROIF=0.030840000000000423, qubit_thr=[-10000, 1900], RO_LO=6.6247, mixer_offset_ge=None)\n"
     ]
    }
   ],
   "source": [
    "q1 = Qubit(q1_dict, readout_dict)\n",
    "q2 = Qubit(q2_dict, readout_dict)\n",
    "readout = Readout(readout_dict)\n",
    "print(f\"{q1}\\n{q2}\")\n",
    " # -0.08"
   ]
  },
  {
   "cell_type": "code",
   "execution_count": 11,
   "metadata": {},
   "outputs": [],
   "source": [
    "wx_addr = wx.get_wx_address()\n",
    "main_directory = r\"C:\\Users\\quantum1\\Documents\"\n",
    "save_dir = rf\"{main_directory}\\Python Scripts\\Important Blue Fridge Python Files\\New\\nonlinear_QM\\data\"\n",
    "target_bnc_address_6 = \"USB0::0x03EB::0xAFFF::411-433500000-0753::INSTR\"\n",
    "bnc.set_bnc_output(\n",
    "    general_vals_dict[\"qubit_bnc\"], power_dBm=13, bnc_addr=target_bnc_address_6\n",
    ")\n",
    "bnc.set_bnc_output(\n",
    "    readout_dict[\"RO_LO\"],\n",
    "    power_dBm=readout_dict[\"RO_LO_pwr\"],\n",
    "    bnc_addr=bnc_address[\"target_bnc_black\"],\n",
    ")\n",
    "bnc.set_bnc_output(\n",
    "    general_vals_dict[\"TWPA_freq\"],\n",
    "    general_vals_dict[\"TWPA_pwr\"],\n",
    "    bnc_addr=bnc_address[\"big_agilent\"],\n",
    ")"
   ]
  },
  {
   "cell_type": "code",
   "execution_count": 12,
   "metadata": {},
   "outputs": [],
   "source": [
    "# phase_offset=6\n",
    "# rabi.test_rabi_ge(q1, q2, general_vals_dict, 1,phase_offset )\n",
    "# wx.wx_set_and_amplitude_and_offset(\n",
    "#         amp=general_vals_dict[\"wx_amps\"], offset=general_vals_dict[\"wx_offs\"]\n",
    "#     )\n",
    "# values = daq.run_daq_het_2q(\n",
    "#         q1, q2, num_patterns=1, num_records_per_pattern=1000, verbose=True\n",
    "#     )"
   ]
  },
  {
   "cell_type": "code",
   "execution_count": 13,
   "metadata": {},
   "outputs": [],
   "source": [
    "# values = daq.run_daq_het_2q(\n",
    "#         q2, q1, num_patterns=1, num_records_per_pattern=5000, verbose=True\n",
    "#     )"
   ]
  },
  {
   "cell_type": "code",
   "execution_count": 14,
   "metadata": {},
   "outputs": [],
   "source": [
    "def run_rabi(\n",
    "    q1,\n",
    "    q2,\n",
    "    general_vals_dict,\n",
    "    num_steps: int,\n",
    "    sweep_time: float,\n",
    "    reps: int,\n",
    "):\n",
    "    \"\"\"\n",
    "    Runs a single instance of the geRabi experiment\n",
    "    and processes the resulting IQ data to compute probabilities vs. time.\n",
    "\n",
    "    Returns:\n",
    "        df_prob (pd.DataFrame): A DataFrame whose index is the time (computed as\n",
    "                                np.linspace(0, sweep_time/1000, num_steps)) and which has\n",
    "                                columns ['P_f', 'P_e', 'P_g'] corresponding to the probabilities\n",
    "                                of the f, e, and g states respectively.\n",
    "    \"\"\"\n",
    "    # Run the experiment\n",
    "    rabi.rabi_ge(q1, q2, general_vals_dict, num_steps, sweep_time)\n",
    "    wx.wx_set_and_amplitude_and_offset(\n",
    "        amp=general_vals_dict[\"wx_amps\"], offset=general_vals_dict[\"wx_offs\"]\n",
    "    )\n",
    "    # Acquire the raw IQ data\n",
    "    values = daq.run_daq_het_2q(\n",
    "        q1, q2, num_patterns=num_steps, num_records_per_pattern=reps, verbose=True\n",
    "    )\n",
    "\n",
    "    # Retrieve raw IQ data from the acquired values\n",
    "    I1_raw = values.rec_readout_1[0]\n",
    "    Q1_raw = values.rec_readout_1[1]\n",
    "    I2_raw = values.rec_readout_2[0]\n",
    "    Q2_raw = values.rec_readout_2[1]\n",
    "\n",
    "    # Build a DataFrame from the IQ data for classification\n",
    "    IQ_df = pd.DataFrame({\"I1\": I1_raw, \"Q1\": Q1_raw, \"I2\": I2_raw, \"Q2\": Q2_raw})\n",
    "    return values, IQ_df"
   ]
  },
  {
   "cell_type": "code",
   "execution_count": 15,
   "metadata": {},
   "outputs": [
    {
     "name": "stdout",
     "output_type": "stream",
     "text": [
      "writing to C:\\arbsequences\\strong_dispersive_withPython\\test_pulse_ringupdown_bin\\\n",
      "writing ch1\n"
     ]
    },
    {
     "ename": "KeyboardInterrupt",
     "evalue": "",
     "output_type": "error",
     "traceback": [
      "\u001b[1;31m---------------------------------------------------------------------------\u001b[0m",
      "\u001b[1;31mKeyboardInterrupt\u001b[0m                         Traceback (most recent call last)",
      "Cell \u001b[1;32mIn[15], line 4\u001b[0m\n\u001b[0;32m      2\u001b[0m reps \u001b[38;5;241m=\u001b[39m \u001b[38;5;241m2000\u001b[39m\n\u001b[0;32m      3\u001b[0m sweep_time \u001b[38;5;241m=\u001b[39m \u001b[38;5;241m100\u001b[39m\n\u001b[1;32m----> 4\u001b[0m values, IQ_df \u001b[38;5;241m=\u001b[39m \u001b[43mrun_rabi\u001b[49m\u001b[43m(\u001b[49m\u001b[43mq1\u001b[49m\u001b[43m,\u001b[49m\u001b[43mq2\u001b[49m\u001b[43m,\u001b[49m\u001b[43mgeneral_vals_dict\u001b[49m\u001b[43m,\u001b[49m\u001b[43mnum_steps\u001b[49m\u001b[43m,\u001b[49m\u001b[43m \u001b[49m\u001b[43msweep_time\u001b[49m\u001b[43m,\u001b[49m\u001b[43m \u001b[49m\u001b[43mreps\u001b[49m\u001b[43m)\u001b[49m\n",
      "Cell \u001b[1;32mIn[14], line 20\u001b[0m, in \u001b[0;36mrun_rabi\u001b[1;34m(q1, q2, general_vals_dict, num_steps, sweep_time, reps)\u001b[0m\n\u001b[0;32m      9\u001b[0m \u001b[38;5;250m\u001b[39m\u001b[38;5;124;03m\"\"\"\u001b[39;00m\n\u001b[0;32m     10\u001b[0m \u001b[38;5;124;03mRuns a single instance of the geRabi experiment\u001b[39;00m\n\u001b[0;32m     11\u001b[0m \u001b[38;5;124;03mand processes the resulting IQ data to compute probabilities vs. time.\u001b[39;00m\n\u001b[1;32m   (...)\u001b[0m\n\u001b[0;32m     17\u001b[0m \u001b[38;5;124;03m                            of the f, e, and g states respectively.\u001b[39;00m\n\u001b[0;32m     18\u001b[0m \u001b[38;5;124;03m\"\"\"\u001b[39;00m\n\u001b[0;32m     19\u001b[0m \u001b[38;5;66;03m# Run the experiment\u001b[39;00m\n\u001b[1;32m---> 20\u001b[0m \u001b[43mrabi\u001b[49m\u001b[38;5;241;43m.\u001b[39;49m\u001b[43mrabi_ge\u001b[49m\u001b[43m(\u001b[49m\u001b[43mq1\u001b[49m\u001b[43m,\u001b[49m\u001b[43m \u001b[49m\u001b[43mq2\u001b[49m\u001b[43m,\u001b[49m\u001b[43m \u001b[49m\u001b[43mgeneral_vals_dict\u001b[49m\u001b[43m,\u001b[49m\u001b[43m \u001b[49m\u001b[43mnum_steps\u001b[49m\u001b[43m,\u001b[49m\u001b[43m \u001b[49m\u001b[43msweep_time\u001b[49m\u001b[43m)\u001b[49m\n\u001b[0;32m     21\u001b[0m wx\u001b[38;5;241m.\u001b[39mwx_set_and_amplitude_and_offset(\n\u001b[0;32m     22\u001b[0m     amp\u001b[38;5;241m=\u001b[39mgeneral_vals_dict[\u001b[38;5;124m\"\u001b[39m\u001b[38;5;124mwx_amps\u001b[39m\u001b[38;5;124m\"\u001b[39m], offset\u001b[38;5;241m=\u001b[39mgeneral_vals_dict[\u001b[38;5;124m\"\u001b[39m\u001b[38;5;124mwx_offs\u001b[39m\u001b[38;5;124m\"\u001b[39m]\n\u001b[0;32m     23\u001b[0m )\n\u001b[0;32m     24\u001b[0m \u001b[38;5;66;03m# Acquire the raw IQ data\u001b[39;00m\n",
      "File \u001b[1;32mc:\\Users\\quantum1\\OneDrive\\Documents\\Python Scripts\\Important Blue Fridge Python Files\\New\\nonlinear_QM\\standard_sequences\\rabi.py:132\u001b[0m, in \u001b[0;36mrabi_ge\u001b[1;34m(qubit_rabi, qubit2, gen_vals, num_steps, sweep_time)\u001b[0m\n\u001b[0;32m    127\u001b[0m     channel \u001b[38;5;241m=\u001b[39m channel1_ch \u001b[38;5;241m+\u001b[39m channel3_ch \u001b[38;5;241m+\u001b[39m marker1\n\u001b[0;32m    129\u001b[0m write_dir \u001b[38;5;241m=\u001b[39m (\n\u001b[0;32m    130\u001b[0m     \u001b[38;5;124mr\u001b[39m\u001b[38;5;124m\"\u001b[39m\u001b[38;5;124mC:\u001b[39m\u001b[38;5;124m\\\u001b[39m\u001b[38;5;124marbsequences\u001b[39m\u001b[38;5;124m\\\u001b[39m\u001b[38;5;124mstrong_dispersive_withPython\u001b[39m\u001b[38;5;124m\\\u001b[39m\u001b[38;5;124mtest_pulse_ringupdown_bin\u001b[39m\u001b[38;5;124m\"\u001b[39m\n\u001b[0;32m    131\u001b[0m )\n\u001b[1;32m--> 132\u001b[0m \u001b[43mringupdown_seq\u001b[49m\u001b[38;5;241;43m.\u001b[39;49m\u001b[43mwrite_sequence_to_disk\u001b[49m\u001b[43m(\u001b[49m\n\u001b[0;32m    133\u001b[0m \u001b[43m    \u001b[49m\u001b[43mbase_name\u001b[49m\u001b[38;5;241;43m=\u001b[39;49m\u001b[38;5;124;43m\"\u001b[39;49m\u001b[38;5;124;43mfoo\u001b[39;49m\u001b[38;5;124;43m\"\u001b[39;49m\u001b[43m,\u001b[49m\u001b[43m  \u001b[49m\u001b[38;5;66;43;03m# rabi_oop_test\u001b[39;49;00m\n\u001b[0;32m    134\u001b[0m \u001b[43m    \u001b[49m\u001b[43mfile_path\u001b[49m\u001b[38;5;241;43m=\u001b[39;49m\u001b[43mwrite_dir\u001b[49m\u001b[43m,\u001b[49m\n\u001b[0;32m    135\u001b[0m \u001b[43m    \u001b[49m\u001b[43muse_range_01\u001b[49m\u001b[38;5;241;43m=\u001b[39;49m\u001b[38;5;28;43;01mFalse\u001b[39;49;00m\u001b[43m,\u001b[49m\n\u001b[0;32m    136\u001b[0m \u001b[43m    \u001b[49m\u001b[43mnum_offset\u001b[49m\u001b[38;5;241;43m=\u001b[39;49m\u001b[38;5;241;43m0\u001b[39;49m\u001b[43m,\u001b[49m\n\u001b[0;32m    137\u001b[0m \u001b[43m    \u001b[49m\u001b[43mwrite_binary\u001b[49m\u001b[38;5;241;43m=\u001b[39;49m\u001b[38;5;28;43;01mTrue\u001b[39;49;00m\u001b[43m,\u001b[49m\n\u001b[0;32m    138\u001b[0m \u001b[43m\u001b[49m\u001b[43m)\u001b[49m\n\u001b[0;32m    139\u001b[0m ringupdown_seq\u001b[38;5;241m.\u001b[39mload_sequence_from_disk(\n\u001b[0;32m    140\u001b[0m     \u001b[38;5;124m\"\u001b[39m\u001b[38;5;124m10.225.208.207\u001b[39m\u001b[38;5;124m\"\u001b[39m,\n\u001b[0;32m    141\u001b[0m     base_name\u001b[38;5;241m=\u001b[39m\u001b[38;5;124m\"\u001b[39m\u001b[38;5;124mfoo\u001b[39m\u001b[38;5;124m\"\u001b[39m,\n\u001b[1;32m   (...)\u001b[0m\n\u001b[0;32m    144\u001b[0m     ch_amp\u001b[38;5;241m=\u001b[39mgen_vals[\u001b[38;5;124m\"\u001b[39m\u001b[38;5;124mwx_amps\u001b[39m\u001b[38;5;124m\"\u001b[39m],\n\u001b[0;32m    145\u001b[0m )\n",
      "File \u001b[1;32mc:\\Users\\quantum1\\OneDrive\\Documents\\Python Scripts\\Important Blue Fridge Python Files\\New\\nonlinear_QM\\classes\\generator.py:396\u001b[0m, in \u001b[0;36mSequence.write_sequence_to_disk\u001b[1;34m(self, base_name, file_path, use_range_01, num_offset, write_binary)\u001b[0m\n\u001b[0;32m    393\u001b[0m new_mark2 \u001b[38;5;241m=\u001b[39m [\u001b[38;5;28mint\u001b[39m(i \u001b[38;5;241m*\u001b[39m \u001b[38;5;241m2\u001b[39m\u001b[38;5;241m*\u001b[39m\u001b[38;5;241m*\u001b[39m\u001b[38;5;241m15\u001b[39m) \u001b[38;5;28;01mfor\u001b[39;00m i \u001b[38;5;129;01min\u001b[39;00m mark2[step_index]]\n\u001b[0;32m    394\u001b[0m \u001b[38;5;28;01mif\u001b[39;00m write_binary:\n\u001b[0;32m    395\u001b[0m     binary_file \u001b[38;5;241m=\u001b[39m np\u001b[38;5;241m.\u001b[39marray(\n\u001b[1;32m--> 396\u001b[0m         [\u001b[38;5;28mround\u001b[39m(\u001b[38;5;241m2\u001b[39m\u001b[38;5;241m*\u001b[39m\u001b[38;5;241m*\u001b[39m\u001b[38;5;241m12\u001b[39m \u001b[38;5;241m*\u001b[39m val \u001b[38;5;241m+\u001b[39m \u001b[38;5;241m8191.5\u001b[39m) \u001b[38;5;28;01mfor\u001b[39;00m val \u001b[38;5;129;01min\u001b[39;00m channel[step_index]]\n\u001b[0;32m    397\u001b[0m     )\n\u001b[0;32m    398\u001b[0m     binary_file \u001b[38;5;241m=\u001b[39m binary_file\u001b[38;5;241m.\u001b[39mclip(\u001b[38;5;241m0\u001b[39m, \u001b[38;5;241m2\u001b[39m\u001b[38;5;241m*\u001b[39m\u001b[38;5;241m*\u001b[39m\u001b[38;5;241m14\u001b[39m \u001b[38;5;241m-\u001b[39m \u001b[38;5;241m1\u001b[39m)\n\u001b[0;32m    399\u001b[0m \u001b[38;5;28;01melse\u001b[39;00m:\n",
      "\u001b[1;31mKeyboardInterrupt\u001b[0m: "
     ]
    }
   ],
   "source": [
    "num_steps = 101\n",
    "reps = 2000\n",
    "sweep_time = 100\n",
    "values, IQ_df = run_rabi(q1,q2,general_vals_dict,num_steps, sweep_time, reps)"
   ]
  },
  {
   "cell_type": "code",
   "execution_count": null,
   "metadata": {},
   "outputs": [
    {
     "name": "stdout",
     "output_type": "stream",
     "text": [
      "I\n"
     ]
    },
    {
     "data": {
      "image/png": "[encoded data removed]",
      "text/plain": [
       "<Figure size 600x400 with 1 Axes>"
      ]
     },
     "metadata": {},
     "output_type": "display_data"
    },
    {
     "name": "stdout",
     "output_type": "stream",
     "text": [
      "\n",
      "\n",
      "  freq: 6.761741309832404 +/- 0.14157021110340123\n",
      " gamma: 3.9553014236654267 +/- 2.067170304543875\n",
      "   amp: 482.78463504788624 +/- 35.792841537285256\n",
      " phase: 75.14094205813082 +/- 5.717114324967773\n",
      "offset: -308.7140482348796 +/- 29.31142074576869\n",
      "pi_pulse time: 0.07394544941743608 +/- 0.14157021110340123\n",
      "π_ge time = 73.94544941743608 ns\n"
     ]
    }
   ],
   "source": [
    "IQ_df = plotting.get_IQ_averages(values)\n",
    "Q = IQ_df[\"Q1\"]\n",
    "I = IQ_df[\"I1\"]\n",
    "Qrange = abs(np.max(Q) - np.min(Q))\n",
    "Irange = abs(np.max(I) - np.min(I))\n",
    "if Qrange > Irange:\n",
    "    print(\"Q\")\n",
    "    times = np.linspace(0, sweep_time / 1000, num_steps)\n",
    "    pi_ge_fit_vals, _, _, _ = analysis.fit_sine_decay(\n",
    "        times, Q, guess_vals=[11, 0.3, np.abs(np.max(Q) - np.min(Q)), 38, Q[0]]\n",
    "    )\n",
    "    pi_ge = abs((1 / 2 / pi_ge_fit_vals[0]) * 1000)\n",
    "    print(\"\\u03C0_ge time = {} ns\".format(pi_ge))\n",
    "else:\n",
    "    print(\"I\")\n",
    "    times = np.linspace(0, sweep_time / 1000, num_steps)\n",
    "    pi_ge_fit_vals, _, _, _ = analysis.fit_sine_decay(\n",
    "        times, I, guess_vals=[11, 0.3, np.abs(np.max(I) - np.min(I)), 38, I[0]]\n",
    "    )\n",
    "    pi_ge = abs((1 / 2 / pi_ge_fit_vals[0]) * 1000)\n",
    "    print(\"\\u03C0_ge time = {} ns\".format(pi_ge))"
   ]
  },
  {
   "cell_type": "code",
   "execution_count": null,
   "metadata": {},
   "outputs": [],
   "source": []
  }
 ],
 "metadata": {
  "kernelspec": {
   "display_name": "Python 3",
   "language": "python",
   "name": "python3"
  },
  "language_info": {
   "codemirror_mode": {
    "name": "ipython",
    "version": 3
   },
   "file_extension": ".py",
   "mimetype": "text/x-python",
   "name": "python",
   "nbconvert_exporter": "python",
   "pygments_lexer": "ipython3",
   "version": "3.12.3"
  }
 },
 "nbformat": 4,
 "nbformat_minor": 2
}
