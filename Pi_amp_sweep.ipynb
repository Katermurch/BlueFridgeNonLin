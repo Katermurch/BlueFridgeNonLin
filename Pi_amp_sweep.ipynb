{
 "cells": [
  {
   "cell_type": "code",
   "execution_count": 1,
   "metadata": {},
   "outputs": [],
   "source": [
    "import numpy as np\n",
    "import os\n",
    "import dill as pickle\n",
    "import matplotlib.pyplot as plt\n",
    "import pandas as pd\n",
    "import sys\n",
    "import hardware_control.wx_programs as wx\n",
    "import hardware_control.bnc as bnc\n",
    "from classes.generator import *\n",
    "from hardware_control.hardware_config import *\n",
    "from experiment_configuration.values import *\n",
    "from classes.qubit_class import *\n",
    "import daq.daq_programs_homo as daq\n",
    "import standard_sequences.rabi_ef_swap as rabi_ef_swap\n",
    "import standard_sequences.sweeppiamp as sweeppiamp\n",
    "import classifiers.classifier as classifier\n",
    "import analysis.analysis as analysis\n",
    "import seaborn as sns\n",
    "from scipy.optimize import curve_fit"
   ]
  },
  {
   "cell_type": "code",
   "execution_count": 2,
   "metadata": {},
   "outputs": [
    {
     "name": "stdout",
     "output_type": "stream",
     "text": [
      "Qubit(RO_IF=None, ge_ssm=-0.1144, ro_freq=6.72739, ro_dur=5000, ef_amp=1.5, ro_amp=1, ge_time=81, qubit_id=q1, ef_time=49, IQ_angle=205, RO_LO_pwr=16, RO_LO=6.6247, ef_ssm=-0.2568, ge_amp=0.874, qubit_thr=[-10000, -600], ROIF=0.10268999999999995)\n",
      "Qubit(RO_IF=None, ge_ssm=-0.154, ro_freq=6.65554, ro_dur=5000, ef_amp=1, ro_amp=1.5, ge_time=45, qubit_id=q2, ef_time=None, IQ_angle=85, RO_LO_pwr=16, RO_LO=6.6247, ef_ssm=-0.2962, ge_amp=0.82, qubit_thr=[-10000, 1900], ROIF=0.030840000000000423)\n"
     ]
    }
   ],
   "source": [
    "q1 = Qubit(q1_dict, readout_dict)\n",
    "q2 = Qubit(q2_dict, readout_dict)\n",
    "readout = Readout(readout_dict)\n",
    "print(f\"{q1}\\n{q2}\")\n",
    "\n",
    "wx_addr = wx.get_wx_address()\n",
    "main_directory = r\"C:\\Users\\quantum1\\Documents\"\n",
    "save_dir = rf\"{main_directory}\\Python Scripts\\Important Blue Fridge Python Files\\New\\nonlinear_QM\\data\"\n",
    "target_bnc_address_6 = \"USB0::0x03EB::0xAFFF::411-433500000-0753::INSTR\"\n",
    "bnc.set_bnc_output(\n",
    "    general_vals_dict[\"qubit_bnc\"], power_dBm=13, bnc_addr=target_bnc_address_6\n",
    ")\n",
    "bnc.set_bnc_output(\n",
    "    readout_dict[\"RO_LO\"],\n",
    "    power_dBm=readout_dict[\"RO_LO_pwr\"],\n",
    "    bnc_addr=bnc_address[\"target_bnc_black\"],\n",
    ")\n",
    "bnc.set_bnc_output(\n",
    "    general_vals_dict[\"TWPA_freq\"],\n",
    "    general_vals_dict[\"TWPA_pwr\"],\n",
    "    bnc_addr=bnc_address[\"big_agilent\"],\n",
    ")\n",
    "general_vals_dict[\"wx_offs\"] = [0.7, 0, -0.08, 0]  # offset to sweet spot"
   ]
  },
  {
   "cell_type": "code",
   "execution_count": 3,
   "metadata": {},
   "outputs": [],
   "source": [
    "def run_sweeppiamp(\n",
    "    q1: object,\n",
    "    q2: object,\n",
    "    general_vals_dict: dict,\n",
    "    num_steps: int,\n",
    "    amp: float,\n",
    "    pi_ge: float,\n",
    "    swap_freq: float,\n",
    "    swap_time: float,\n",
    "    reps: int,\n",
    "):\n",
    "    \"\"\"\n",
    "    Runs a single instance of the nonhermitian ef Rabi experiment (with an e-swap to Q2)\n",
    "    and processes the resulting IQ data to compute probabilities vs. time.\n",
    "\n",
    "    Returns:\n",
    "        df_prob (pd.DataFrame): A DataFrame whose index is the time (computed as\n",
    "                                np.linspace(0, sweep_time/1000, num_steps)) and which has\n",
    "                                columns ['P_f', 'P_e', 'P_g'] corresponding to the probabilities\n",
    "                                of the f, e, and g states respectively.\n",
    "    \"\"\"\n",
    "    # Run the experiment\n",
    "    sweeppiamp.pi_ge_amp(\n",
    "        q1, q2, general_vals_dict, num_steps, amp, swap_freq, pi_ge, swap_time\n",
    "    )\n",
    "    # rabi_ef_swap.rabi_ef_swap_f(\n",
    "    #     q1, q2, general_vals_dict, num_steps, sweep_time, swap_freq, swap_time\n",
    "    # )\n",
    "    wx.wx_set_and_amplitude_and_offset(\n",
    "        amp=general_vals_dict[\"wx_amps\"], offset=general_vals_dict[\"wx_offs\"]\n",
    "    )\n",
    "    # Acquire the raw IQ data\n",
    "    values = daq.run_daq_het_2q(\n",
    "        q1, q2, num_patterns=num_steps, num_records_per_pattern=reps, verbose=False\n",
    "    )\n",
    "\n",
    "    # Retrieve raw IQ data from the acquired values\n",
    "    I1_raw = values.rec_readout_1[0]\n",
    "    Q1_raw = values.rec_readout_1[1]\n",
    "    I2_raw = values.rec_readout_2[0]\n",
    "    Q2_raw = values.rec_readout_2[1]\n",
    "\n",
    "    # Build a DataFrame from the IQ data for classification\n",
    "    IQ_df = pd.DataFrame({\"I1\": I1_raw, \"Q1\": Q1_raw, \"I2\": I2_raw, \"Q2\": Q2_raw})\n",
    "\n",
    "    # Classify the IQ data (classifier.classify returns a DataFrame that has a 'predicted' column)\n",
    "    classified = classifier.classify(IQ_df)\n",
    "    states = classified[\"predicted\"]\n",
    "    # Reshape the predicted states.\n",
    "    # (Assume that classifier.reshape_for_exp returns an array of shape (num_steps, reps),\n",
    "    #  where each row corresponds to a time step and holds all the state measurements for that step.)\n",
    "    states_reshaped = classifier.reshape_for_exp(states, reps, num_steps)\n",
    "    probabilties = classifier.probabilities(states_reshaped)\n",
    "    population = classifier.population(states_reshaped)\n",
    "\n",
    "    return probabilties, values\n",
    "\n",
    "\n",
    "def sweep_amp(amp_list: list):\n",
    "    \"\"\"\n",
    "    Sweeps the frequency for the ef transition.\n",
    "    For each frequency, it runs the experiment (via run_rabi_ef_swap) which returns a\n",
    "    probability-vs-time DataFrame. Then it compiles these results into a dictionary\n",
    "    where the keys are the frequency values (floats) and the values are the corresponding\n",
    "    DataFrames.\n",
    "\n",
    "    Returns:\n",
    "        probability_dataframes (dict): A dictionary mapping frequency values to DataFrames.\n",
    "            Each DataFrame has rows corresponding to time values (computed as\n",
    "            np.linspace(0, sweep_time/1000, num_steps)) and columns for the state probabilities.\n",
    "    \"\"\"\n",
    "    # Ensure the output directories exist\n",
    "\n",
    "    num_steps = 3\n",
    "    reps = 5000\n",
    "    swap_freq = -0.0194\n",
    "    swap_time = 0.5 * 7 / abs(swap_freq)\n",
    "    pi_ge = 81\n",
    "    P_f = np.zeros(len(amp_list))\n",
    "    P_e = np.zeros(len(amp_list))\n",
    "    P_g = np.zeros(len(amp_list))\n",
    "\n",
    "    # Loop over frequencies and populate the dictionary\n",
    "    for i in range(len(amp_list)):\n",
    "        amp = amp_list[i]\n",
    "\n",
    "        probabilties, values = run_sweeppiamp(\n",
    "           q1, q2, general_vals_dict, num_steps, amp, pi_ge, swap_freq, swap_time, reps\n",
    "        )\n",
    "        # Populate the dictionary at the corresponding frequency key\n",
    "        P_g[i] = np.mean(probabilties[\"P_g\"])\n",
    "        P_e[i] = np.mean(probabilties[\"P_e\"])\n",
    "        P_f[i] = np.mean(probabilties[\"P_f\"])\n",
    "\n",
    "    return P_g, P_e, P_f"
   ]
  },
  {
   "cell_type": "code",
   "execution_count": 4,
   "metadata": {},
   "outputs": [
    {
     "name": "stdout",
     "output_type": "stream",
     "text": [
      "writing to C:\\arbsequences\\strong_dispersive_withPython\\test_pulse_ringupdown_bin\\\n",
      "writing ch1\n",
      "writing ch2\n",
      "writing ch3\n",
      "writing ch4\n",
      "loading C:\\arbsequences\\strong_dispersive_withPython\\test_pulse_ringupdown_bin\\\n",
      "num_steps 3\n",
      "loading ch1\n",
      "loading ch2\n",
      "loading ch3\n",
      "loading ch4\n",
      "0, No error\n",
      "0, No error\n",
      "0, No error\n",
      "0, No error\n",
      "0, No error\n",
      "0, No error\n",
      "Patterns: 3\n",
      "Records per pattern: 5000\n",
      "Buffers per acquistion: 5\n",
      "DAQ samples per pattern: 8192\n",
      "0, No error\n",
      "Capturing 5 buffers. Press <enter> to abort\n",
      "Capture completed in 2.532059 sec\n",
      "Captured 5 buffers (1.974678 buffers per sec)\n",
      "Captured 15360 records (6066.210039 records per sec)\n",
      "Transferred 251658240 bytes (99388785.270910 bytes per sec)\n"
     ]
    }
   ],
   "source": [
    "amp_start =0.8\n",
    "amp_end =0.8\n",
    "steps = 1\n",
    "amp_list = np.linspace(amp_start, amp_end, steps)\n",
    "\n",
    "\n",
    "num_steps = 3\n",
    "reps = 5000\n",
    "swap_freq = -0.0194\n",
    "swap_time = 0.5 * 7 / abs(swap_freq)\n",
    "pi_ge = 81\n",
    "P_f = np.zeros(len(amp_list))\n",
    "P_e = np.zeros(len(amp_list))\n",
    "P_g = np.zeros(len(amp_list))\n",
    "\n",
    "# Loop over frequencies and populate the dictionary\n",
    "for i in range(len(amp_list)):\n",
    "    amp = amp_list[i]\n",
    "\n",
    "    probabilties, values = run_sweeppiamp(\n",
    "        q1, q2, general_vals_dict, num_steps, amp, pi_ge, swap_freq, swap_time, reps\n",
    "    )\n",
    "    # Populate the dictionary at the corresponding frequency key\n",
    "    P_g[i] = np.mean(probabilties[\"P_g\"])\n",
    "    P_e[i] = np.mean(probabilties[\"P_e\"])\n",
    "    P_f[i] = np.mean(probabilties[\"P_f\"])"
   ]
  },
  {
   "cell_type": "code",
   "execution_count": 5,
   "metadata": {},
   "outputs": [],
   "source": [
    "# amp_start =0\n",
    "# amp_end =1\n",
    "# steps = 21\n",
    "# amp_list = np.linspace(amp_start, amp_end, steps)\n",
    "\n",
    "\n",
    "# P_g, P_e, P_f = sweep_amp(amp_list)"
   ]
  },
  {
   "cell_type": "code",
   "execution_count": 11,
   "metadata": {},
   "outputs": [
    {
     "data": {
      "text/plain": [
       "array([0.029])"
      ]
     },
     "execution_count": 11,
     "metadata": {},
     "output_type": "execute_result"
    }
   ],
   "source": [
    "P_e"
   ]
  },
  {
   "cell_type": "code",
   "execution_count": 7,
   "metadata": {},
   "outputs": [
    {
     "data": {
      "text/plain": [
       "<matplotlib.legend.Legend at 0x1e2d10ce1b0>"
      ]
     },
     "execution_count": 7,
     "metadata": {},
     "output_type": "execute_result"
    },
    {
     "data": {
      "image/png": "[encoded data removed]",
      "text/plain": [
       "<Figure size 640x480 with 1 Axes>"
      ]
     },
     "metadata": {},
     "output_type": "display_data"
    }
   ],
   "source": [
    "plt.plot(amp_list, P_g, label=\"P_g\")\n",
    "plt.plot(amp_list, P_e, label=\"P_e\")\n",
    "plt.plot(amp_list, P_f, label=\"P_f\")\n",
    "plt.legend()"
   ]
  }
 ],
 "metadata": {
  "kernelspec": {
   "display_name": "Python 3",
   "language": "python",
   "name": "python3"
  },
  "language_info": {
   "codemirror_mode": {
    "name": "ipython",
    "version": 3
   },
   "file_extension": ".py",
   "mimetype": "text/x-python",
   "name": "python",
   "nbconvert_exporter": "python",
   "pygments_lexer": "ipython3",
   "version": "3.12.3"
  }
 },
 "nbformat": 4,
 "nbformat_minor": 2
}
